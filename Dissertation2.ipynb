{
  "nbformat": 4,
  "nbformat_minor": 0,
  "metadata": {
    "colab": {
      "provenance": []
    },
    "kernelspec": {
      "name": "python3",
      "display_name": "Python 3"
    },
    "language_info": {
      "name": "python"
    },
    "accelerator": "GPU",
    "gpuClass": "standard"
  },
  "cells": [
    {
      "cell_type": "code",
      "execution_count": null,
      "metadata": {
        "id": "fwqyRr3qIm0i"
      },
      "outputs": [],
      "source": [
        "import numpy as np\n",
        "import pylab as plt\n",
        "import warnings\n",
        "import os\n",
        "import h5py\n",
        "import matplotlib as mpl\n",
        "%matplotlib inline\n",
        "\n",
        "import sklearn\n",
        "from sklearn import linear_model\n",
        "\n",
        "import pandas as pd\n",
        "import seaborn as sns\n",
        "\n",
        "import keras\n",
        "import tensorflow as tf\n",
        "from keras.utils.np_utils import to_categorical\n",
        "from keras.layers import BatchNormalization\n",
        "import keras.backend as K\n",
        "\n",
        "from numpy import zeros\n",
        "from numpy import ones\n",
        "from numpy import expand_dims\n",
        "from numpy.random import randn\n",
        "from numpy.random import randint\n",
        "from keras.optimizers import Adam\n",
        "from keras.models import Model\n",
        "from keras.layers import Input\n",
        "from keras.layers import Dense\n",
        "from keras.layers import Reshape\n",
        "from keras.layers import Flatten\n",
        "from keras.layers import Conv2D\n",
        "from keras.layers import MaxPool2D\n",
        "from keras.layers import Conv2DTranspose\n",
        "from keras.layers import LeakyReLU\n",
        "from keras.layers import BatchNormalization\n",
        "from keras.layers import Dropout\n",
        "from keras.layers import Embedding\n",
        "from keras.layers import Activation\n",
        "from keras.layers import Concatenate\n",
        "from keras.initializers import RandomNormal\n",
        "from matplotlib import pyplot\n",
        "\n",
        "from __future__ import print_function\n",
        "\n",
        "from collections import defaultdict\n",
        "import pickle\n",
        "from PIL import Image\n",
        "\n",
        "from six.moves import range\n",
        "\n",
        "import tensorflow as tf\n",
        "import keras\n",
        "import keras.backend as K\n",
        "from keras.datasets import mnist\n",
        "from tensorflow.keras.layers import Input, Dense, Reshape, Flatten, Embedding, Dropout, LeakyReLU\n",
        "from keras.layers.convolutional import UpSampling2D, Conv2D\n",
        "from keras.models import Sequential, Model\n",
        "from keras.optimizers import Adam\n",
        "from keras.utils.generic_utils import Progbar\n",
        "import numpy as np\n",
        "\n",
        "np.random.seed(142)"
      ]
    },
    {
      "cell_type": "code",
      "source": [
        "train_file = \"/content/onsetWforms_allM3p_180618_rpkd_QN_naug1_Tra_nrec10000.h5\"\n",
        "val_file   = \"/content/onsetWforms_allM3p_180618_rpkd_QN_naug1_Val_nrec10000.h5\"\n",
        "\n",
        "ftrain   = h5py.File(train_file,'r')\n",
        "W_train  = ftrain['/X'][()]        # waveforms\n",
        "F_train0 = ftrain['/F'][()]        # scalar features\n",
        "Y_train  = ftrain['/Y'][()]        # labels\n",
        "ntr      = F_train0.shape[0]\n",
        "\n",
        "fval    = h5py.File(val_file,'r')\n",
        "W_test  = fval['/X'][()]\n",
        "F_test0 = fval['/F'][()]\n",
        "Y_test  = fval['/Y'][()]\n",
        "nte     = F_test0.shape[0]\n",
        "\n",
        "print(\"Number of training records: \"+str(ntr))\n",
        "print(\"Number of testing  records: \"+str(nte))"
      ],
      "metadata": {
        "colab": {
          "base_uri": "https://localhost:8080/"
        },
        "id": "GrUZf1hTIuYS",
        "outputId": "a4f38330-f78b-44b4-893d-2f3d3289175a"
      },
      "execution_count": null,
      "outputs": [
        {
          "output_type": "stream",
          "name": "stdout",
          "text": [
            "Number of training records: 8000\n",
            "Number of testing  records: 2000\n"
          ]
        }
      ]
    },
    {
      "cell_type": "code",
      "source": [
        "W_train = W_train.reshape(-1,400,3,1)\n",
        "W_test = W_test.reshape(-1,400,3,1)\n",
        "W_test.shape, W_train.shape"
      ],
      "metadata": {
        "colab": {
          "base_uri": "https://localhost:8080/"
        },
        "id": "Rni6dpWlIy5_",
        "outputId": "35ac898d-1b53-4ad5-a752-b8bcf2f1a48c"
      },
      "execution_count": null,
      "outputs": [
        {
          "output_type": "execute_result",
          "data": {
            "text/plain": [
              "((2000, 400, 3, 1), (8000, 400, 3, 1))"
            ]
          },
          "metadata": {},
          "execution_count": 5
        }
      ]
    },
    {
      "cell_type": "code",
      "source": [
        "def build_generator(latent_size):\n",
        "    # we will map a pair of (z, L), where z is a latent vector and L is a\n",
        "    # label drawn from P_c, to image space (..., 1, 28, 28)\n",
        "    \t# label input\n",
        "\tin_label = Input(shape=(1,))\n",
        "\t# embedding for categorical input\n",
        "\tli = Embedding(400, latent_size)(in_label)\n",
        "\t# linear multiplication\n",
        "\tn_nodes = 100*3\n",
        "\tli = Dense(n_nodes)(li)\n",
        "\t# reshape to additional channel\n",
        "\tli = Reshape((100, 3, 1))(li)\n",
        "\t# image generator input\n",
        "\tin_lat = Input(shape=(latent_size,))\n",
        "\t# foundation for 7x7 image\n",
        "\tn_nodes = 384 * 100 * 3\n",
        "\tgen = Dense(n_nodes)(in_lat)\n",
        "\tgen = Activation('relu')(gen)\n",
        "\tgen = Reshape((100, 3, 384))(gen)\n",
        "\t# merge image gen and label input\n",
        "\tmerge = Concatenate()([gen, li])\n",
        "    \n",
        "\tgen = Conv2D(64,(3,3), activation='relu', padding='SAME')(merge)\n",
        "\tgen = BatchNormalization()(gen)\n",
        "\tgen = tf.keras.layers.UpSampling2D((2,1))(gen)\n",
        "\tgen = Conv2D(128,(3,3), activation='relu', padding='SAME')(gen)\n",
        "\tgen = BatchNormalization()(gen)\n",
        "\tgen = Conv2D(256,(3,3), activation='relu', padding='SAME')(gen)\n",
        "\tgen = BatchNormalization()(gen)\n",
        "\tgen = Conv2D(128,(3,3), activation='relu', padding='SAME')(gen)\n",
        "\tgen = BatchNormalization()(gen)\n",
        "\tgen = Conv2D(64,(3,3), activation='relu', padding='SAME')(gen)\n",
        "\tgen = BatchNormalization()(gen)\n",
        "\tgen = tf.keras.layers.UpSampling2D((2,1))(gen)\n",
        "\tgen = Conv2D(1,(3,3), activation='relu', padding='SAME')(gen)\n",
        "\tout_layer = BatchNormalization()(gen)        \n",
        "    \n",
        "\t# define model\n",
        "\tmodel = Model([in_lat, in_label], out_layer)\n",
        "\tprint(\"------------------Generator Model--------------------\")\n",
        "\tprint(model.summary())\n",
        "\treturn model\n",
        "\n",
        "\n",
        "def build_discriminator():\n",
        "\tin_image = Input(shape=(400,3,1))\n",
        "\t# downsample to 14x14\n",
        "\tfe = Conv2D(64, (3,3), padding='same')(in_image)\n",
        "\tfe = LeakyReLU(alpha=0.2)(fe)\n",
        "#\tfe = Dropout(0.5)(fe)\n",
        "\t# normal\n",
        "\tfe = Conv2D(128, (3,3), padding='same')(fe)\n",
        "\tfe = BatchNormalization()(fe)\n",
        "\tfe = LeakyReLU(alpha=0.2)(fe)\n",
        "#\tfe = Dropout(0.5)(fe)\n",
        "\t# downsample to 7x7\n",
        "\tfe = Conv2D(256, (3,3), padding='same')(fe)\n",
        "\tfe = BatchNormalization()(fe)\n",
        "\tfe = LeakyReLU(alpha=0.2)(fe)\n",
        "\tfe = Dropout(0.5)(fe)\n",
        "\t# normal\n",
        "\tfe = Conv2D(128, (3,3), padding='same')(fe)\n",
        "\tfe = BatchNormalization()(fe)\n",
        "\tfe = LeakyReLU(alpha=0.2)(fe)\n",
        "\t#fe = Dropout(0.5)(fe)\n",
        "\t# flatten feature maps\n",
        "\tfe = Flatten()(fe)\n",
        "\t# real/fake output\n",
        "\tout1 = Dense(1, activation='sigmoid')(fe)\n",
        "\t# class label output\n",
        "\tout2 = Dense(2, activation='softmax')(fe)\n",
        "\t# define model\n",
        "\tmodel = Model(in_image, [out1, out2])\n",
        "    \n",
        "\tprint(\"------------------Discriminator Model--------------------\")\n",
        "\tprint(model.summary())    \n",
        "\treturn model"
      ],
      "metadata": {
        "id": "XN6fMIHUI6qb"
      },
      "execution_count": null,
      "outputs": []
    },
    {
      "cell_type": "code",
      "source": [
        "if __name__ == '__main__':\n",
        "\n",
        "    # batch and latent size taken from the paper\n",
        "    nb_epochs = 50\n",
        "    batch_size = 64\n",
        "    latent_size = 100\n",
        "    n_classes = 2\n",
        "\n",
        "    # Adam parameters suggested in https://arxiv.org/abs/1511.06434\n",
        "    adam_lr = 0.0002\n",
        "    adam_beta_1 = 0.5\n",
        "\n",
        "    # build the discriminator\n",
        "    discriminator = build_discriminator()\n",
        "    discriminator.compile(\n",
        "        optimizer=Adam(lr=adam_lr, beta_1=adam_beta_1),\n",
        "        loss=['binary_crossentropy', 'sparse_categorical_crossentropy']\n",
        "    )\n",
        "\n",
        "    # build the generator\n",
        "    generator = build_generator(latent_size)\n",
        "    generator.compile(optimizer=Adam(lr=adam_lr, beta_1=adam_beta_1),\n",
        "                      loss='binary_crossentropy')\n",
        "\n",
        "    latent = Input(shape=(latent_size, ))\n",
        "    image_class = Input(shape=(1,), dtype='int32')\n",
        "\n",
        "    # get a fake image\n",
        "    fake = generator([latent, image_class])\n",
        "\n",
        "    # we only want to be able to train generation for the combined model\n",
        "    discriminator.trainable = False\n",
        "    fake, aux = discriminator(fake)\n",
        "    combined = Model([latent, image_class], [fake, aux])\n",
        "\n",
        "    combined.compile(\n",
        "        optimizer=Adam(lr=adam_lr, beta_1=adam_beta_1),\n",
        "        loss=['binary_crossentropy', 'sparse_categorical_crossentropy']\n",
        "    )\n",
        "\n",
        "    # get our mnist data, and force it to be of shape (..., 1, 28, 28) with\n",
        "    # range [-1, 1]\n",
        "    X_train, y_train,X_test, y_test = W_train[:7500],Y_train[:7500],W_train[7500:],Y_train[7500:]\n",
        "    #X_train = (X_train.astype(np.float32) - 127.5) / 127.5\n",
        "    #X_train = np.expand_dims(X_train, axis=1)\n",
        "\n",
        "    #X_test = (X_test.astype(np.float32) - 127.5) / 127.5\n",
        "    #X_test = np.expand_dims(X_test, axis=1)\n",
        "\n",
        "    nb_train, nb_test = X_train.shape[0], X_test.shape[0]\n",
        "\n",
        "    train_history = defaultdict(list)\n",
        "    test_history = defaultdict(list)\n",
        "\n",
        "    for epoch in range(nb_epochs):\n",
        "        print('Epoch {} of {}'.format(epoch + 1, nb_epochs))\n",
        "\n",
        "        nb_batches = int(X_train.shape[0] / batch_size)\n",
        "        progress_bar = Progbar(target=nb_batches)\n",
        "\n",
        "        epoch_gen_loss = []\n",
        "        epoch_disc_loss = []\n",
        "\n",
        "        for index in range(nb_batches):\n",
        "            progress_bar.update(index)\n",
        "            # generate a new batch of noise\n",
        "            noise = np.random.uniform(-1, 1, (batch_size, latent_size))\n",
        "\n",
        "            # get a batch of real images\n",
        "            image_batch = X_train[index * batch_size:(index + 1) * batch_size]\n",
        "            label_batch = y_train[index * batch_size:(index + 1) * batch_size]\n",
        "\n",
        "            # sample some labels from p_c\n",
        "            sampled_labels = np.random.randint(0, 2, batch_size)\n",
        "\n",
        "            # generate a batch of fake images, using the generated labels as a\n",
        "            # conditioner. We reshape the sampled labels to be\n",
        "            # (batch_size, 1) so that we can feed them into the embedding\n",
        "            # layer as a length one sequence\n",
        "            generated_images = generator.predict(\n",
        "                [noise, sampled_labels.reshape((-1, 1))], verbose=0)\n",
        "\n",
        "            X = np.concatenate((image_batch, generated_images))\n",
        "            y = np.array([1] * batch_size + [0] * batch_size)\n",
        "            aux_y = np.concatenate((label_batch, sampled_labels), axis=0)\n",
        "\n",
        "            # see if the discriminator can figure itself out...\n",
        "            epoch_disc_loss.append(discriminator.train_on_batch(X, [y, aux_y]))\n",
        "\n",
        "            # make new noise. we generate 2 * batch size here such that we have\n",
        "            # the generator optimize over an identical number of images as the\n",
        "            # discriminator\n",
        "            noise = np.random.uniform(-1, 1, (2 * batch_size, latent_size))\n",
        "            sampled_labels = np.random.randint(0, 2, 2 * batch_size)\n",
        "\n",
        "            # we want to train the genrator to trick the discriminator\n",
        "            # For the generator, we want all the {fake, not-fake} labels to say\n",
        "            # not-fake\n",
        "            trick = np.ones(2 * batch_size)\n",
        "\n",
        "            epoch_gen_loss.append(combined.train_on_batch(\n",
        "                [noise, sampled_labels.reshape((-1, 1))], [trick, sampled_labels]))\n",
        "\n",
        "        print('\\nTesting for epoch {}:'.format(epoch + 1))\n",
        "\n",
        "        # evaluate the testing loss here\n",
        "\n",
        "        # generate a new batch of noise\n",
        "        noise = np.random.uniform(-1, 1, (nb_test, latent_size))\n",
        "\n",
        "        # sample some labels from p_c and generate images from them\n",
        "        sampled_labels = np.random.randint(0, 2, nb_test)\n",
        "        generated_images = generator.predict(\n",
        "            [noise, sampled_labels.reshape((-1, 1))], verbose=False)\n",
        "\n",
        "        X = np.concatenate((X_test, generated_images))\n",
        "        y = np.array([1] * nb_test + [0] * nb_test)\n",
        "        aux_y = np.concatenate((y_test, sampled_labels), axis=0)\n",
        "\n",
        "        # see if the discriminator can figure itself out...\n",
        "        discriminator_test_loss = discriminator.evaluate(\n",
        "            X, [y, aux_y], verbose=False)\n",
        "\n",
        "        discriminator_train_loss = np.mean(np.array(epoch_disc_loss), axis=0)\n",
        "\n",
        "        # make new noise\n",
        "        noise = np.random.uniform(-1, 1, (2 * nb_test, latent_size))\n",
        "        sampled_labels = np.random.randint(0, 2, 2 * nb_test)\n",
        "\n",
        "        trick = np.ones(2 * nb_test)\n",
        "\n",
        "        generator_test_loss = combined.evaluate(\n",
        "            [noise, sampled_labels.reshape((-1, 1))],\n",
        "            [trick, sampled_labels], verbose=False)\n",
        "\n",
        "        generator_train_loss = np.mean(np.array(epoch_gen_loss), axis=0)\n",
        "\n",
        "        # generate an epoch report on performance\n",
        "        train_history['generator'].append(generator_train_loss)\n",
        "        train_history['discriminator'].append(discriminator_train_loss)\n",
        "\n",
        "        test_history['generator'].append(generator_test_loss)\n",
        "        test_history['discriminator'].append(discriminator_test_loss)\n",
        "\n",
        "        print('{0:<22s} | {1:4s} | {2:15s} | {3:5s}'.format(\n",
        "            'component', *discriminator.metrics_names))\n",
        "        print('-' * 65)\n",
        "\n",
        "        ROW_FMT = '{0:<22s} | {1:<4.2f} | {2:<15.2f} | {3:<5.2f}'\n",
        "        print(ROW_FMT.format('generator (train)',\n",
        "                             *train_history['generator'][-1]))\n",
        "        print(ROW_FMT.format('generator (test)',\n",
        "                             *test_history['generator'][-1]))\n",
        "        print(ROW_FMT.format('discriminator (train)',\n",
        "                             *train_history['discriminator'][-1]))\n",
        "        print(ROW_FMT.format('discriminator (test)',\n",
        "                             *test_history['discriminator'][-1]))\n",
        "\n",
        "        # save weights every epoch\n",
        "        generator.save_weights(\n",
        "            'params_generator_epoch_{0:03d}.hdf5'.format(epoch), True)\n",
        "        discriminator.save_weights(\n",
        "            'params_discriminator_epoch_{0:03d}.hdf5'.format(epoch), True)\n",
        "\n",
        "        # generate some waveforms to display\n",
        "        # generate a new batch of noise\n",
        "        noise = np.random.uniform(-1, 1, (nb_test, latent_size))\n",
        "        sampled_labels = np.random.randint(0, 2, nb_test)\n",
        "        generated_images = generator.predict(\n",
        "            [noise, sampled_labels.reshape((-1, 1))], verbose=True)\n",
        "        generated_images = generated_images.reshape(nb_test,400,3)\n",
        "        \n",
        "    #saving model weights and history training and testing performance of each epoch\n",
        "\n",
        "    pickle.dump({'train': train_history, 'test': test_history},\n",
        "                open('acgan-history-colab2.pkl', 'wb'))"
      ],
      "metadata": {
        "colab": {
          "base_uri": "https://localhost:8080/"
        },
        "id": "uuLtC6LLJCpj",
        "outputId": "0385eca8-d9f1-4d3c-d40a-c855ecaa58b4"
      },
      "execution_count": null,
      "outputs": [
        {
          "output_type": "stream",
          "name": "stdout",
          "text": [
            "------------------Discriminator Model--------------------\n",
            "Model: \"model\"\n",
            "__________________________________________________________________________________________________\n",
            " Layer (type)                   Output Shape         Param #     Connected to                     \n",
            "==================================================================================================\n",
            " input_1 (InputLayer)           [(None, 400, 3, 1)]  0           []                               \n",
            "                                                                                                  \n",
            " conv2d (Conv2D)                (None, 400, 3, 64)   640         ['input_1[0][0]']                \n",
            "                                                                                                  \n",
            " leaky_re_lu (LeakyReLU)        (None, 400, 3, 64)   0           ['conv2d[0][0]']                 \n",
            "                                                                                                  \n",
            " conv2d_1 (Conv2D)              (None, 400, 3, 128)  73856       ['leaky_re_lu[0][0]']            \n",
            "                                                                                                  \n",
            " batch_normalization (BatchNorm  (None, 400, 3, 128)  512        ['conv2d_1[0][0]']               \n",
            " alization)                                                                                       \n",
            "                                                                                                  \n",
            " leaky_re_lu_1 (LeakyReLU)      (None, 400, 3, 128)  0           ['batch_normalization[0][0]']    \n",
            "                                                                                                  \n",
            " conv2d_2 (Conv2D)              (None, 400, 3, 256)  295168      ['leaky_re_lu_1[0][0]']          \n",
            "                                                                                                  \n",
            " batch_normalization_1 (BatchNo  (None, 400, 3, 256)  1024       ['conv2d_2[0][0]']               \n",
            " rmalization)                                                                                     \n",
            "                                                                                                  \n",
            " leaky_re_lu_2 (LeakyReLU)      (None, 400, 3, 256)  0           ['batch_normalization_1[0][0]']  \n",
            "                                                                                                  \n",
            " dropout (Dropout)              (None, 400, 3, 256)  0           ['leaky_re_lu_2[0][0]']          \n",
            "                                                                                                  \n",
            " conv2d_3 (Conv2D)              (None, 400, 3, 128)  295040      ['dropout[0][0]']                \n",
            "                                                                                                  \n",
            " batch_normalization_2 (BatchNo  (None, 400, 3, 128)  512        ['conv2d_3[0][0]']               \n",
            " rmalization)                                                                                     \n",
            "                                                                                                  \n",
            " leaky_re_lu_3 (LeakyReLU)      (None, 400, 3, 128)  0           ['batch_normalization_2[0][0]']  \n",
            "                                                                                                  \n",
            " flatten (Flatten)              (None, 153600)       0           ['leaky_re_lu_3[0][0]']          \n",
            "                                                                                                  \n",
            " dense (Dense)                  (None, 1)            153601      ['flatten[0][0]']                \n",
            "                                                                                                  \n",
            " dense_1 (Dense)                (None, 2)            307202      ['flatten[0][0]']                \n",
            "                                                                                                  \n",
            "==================================================================================================\n",
            "Total params: 1,127,555\n",
            "Trainable params: 1,126,531\n",
            "Non-trainable params: 1,024\n",
            "__________________________________________________________________________________________________\n",
            "None\n"
          ]
        },
        {
          "output_type": "stream",
          "name": "stderr",
          "text": [
            "/usr/local/lib/python3.10/dist-packages/keras/optimizers/legacy/adam.py:117: UserWarning: The `lr` argument is deprecated, use `learning_rate` instead.\n",
            "  super().__init__(name, **kwargs)\n"
          ]
        },
        {
          "output_type": "stream",
          "name": "stdout",
          "text": [
            "------------------Generator Model--------------------\n",
            "Model: \"model_1\"\n",
            "__________________________________________________________________________________________________\n",
            " Layer (type)                   Output Shape         Param #     Connected to                     \n",
            "==================================================================================================\n",
            " input_3 (InputLayer)           [(None, 100)]        0           []                               \n",
            "                                                                                                  \n",
            " input_2 (InputLayer)           [(None, 1)]          0           []                               \n",
            "                                                                                                  \n",
            " dense_3 (Dense)                (None, 115200)       11635200    ['input_3[0][0]']                \n",
            "                                                                                                  \n",
            " embedding (Embedding)          (None, 1, 100)       40000       ['input_2[0][0]']                \n",
            "                                                                                                  \n",
            " activation (Activation)        (None, 115200)       0           ['dense_3[0][0]']                \n",
            "                                                                                                  \n",
            " dense_2 (Dense)                (None, 1, 300)       30300       ['embedding[0][0]']              \n",
            "                                                                                                  \n",
            " reshape_1 (Reshape)            (None, 100, 3, 384)  0           ['activation[0][0]']             \n",
            "                                                                                                  \n",
            " reshape (Reshape)              (None, 100, 3, 1)    0           ['dense_2[0][0]']                \n",
            "                                                                                                  \n",
            " concatenate (Concatenate)      (None, 100, 3, 385)  0           ['reshape_1[0][0]',              \n",
            "                                                                  'reshape[0][0]']                \n",
            "                                                                                                  \n",
            " conv2d_4 (Conv2D)              (None, 100, 3, 64)   221824      ['concatenate[0][0]']            \n",
            "                                                                                                  \n",
            " batch_normalization_3 (BatchNo  (None, 100, 3, 64)  256         ['conv2d_4[0][0]']               \n",
            " rmalization)                                                                                     \n",
            "                                                                                                  \n",
            " up_sampling2d (UpSampling2D)   (None, 200, 3, 64)   0           ['batch_normalization_3[0][0]']  \n",
            "                                                                                                  \n",
            " conv2d_5 (Conv2D)              (None, 200, 3, 128)  73856       ['up_sampling2d[0][0]']          \n",
            "                                                                                                  \n",
            " batch_normalization_4 (BatchNo  (None, 200, 3, 128)  512        ['conv2d_5[0][0]']               \n",
            " rmalization)                                                                                     \n",
            "                                                                                                  \n",
            " conv2d_6 (Conv2D)              (None, 200, 3, 256)  295168      ['batch_normalization_4[0][0]']  \n",
            "                                                                                                  \n",
            " batch_normalization_5 (BatchNo  (None, 200, 3, 256)  1024       ['conv2d_6[0][0]']               \n",
            " rmalization)                                                                                     \n",
            "                                                                                                  \n",
            " conv2d_7 (Conv2D)              (None, 200, 3, 128)  295040      ['batch_normalization_5[0][0]']  \n",
            "                                                                                                  \n",
            " batch_normalization_6 (BatchNo  (None, 200, 3, 128)  512        ['conv2d_7[0][0]']               \n",
            " rmalization)                                                                                     \n",
            "                                                                                                  \n",
            " conv2d_8 (Conv2D)              (None, 200, 3, 64)   73792       ['batch_normalization_6[0][0]']  \n",
            "                                                                                                  \n",
            " batch_normalization_7 (BatchNo  (None, 200, 3, 64)  256         ['conv2d_8[0][0]']               \n",
            " rmalization)                                                                                     \n",
            "                                                                                                  \n",
            " up_sampling2d_1 (UpSampling2D)  (None, 400, 3, 64)  0           ['batch_normalization_7[0][0]']  \n",
            "                                                                                                  \n",
            " conv2d_9 (Conv2D)              (None, 400, 3, 1)    577         ['up_sampling2d_1[0][0]']        \n",
            "                                                                                                  \n",
            " batch_normalization_8 (BatchNo  (None, 400, 3, 1)   4           ['conv2d_9[0][0]']               \n",
            " rmalization)                                                                                     \n",
            "                                                                                                  \n",
            "==================================================================================================\n",
            "Total params: 12,668,321\n",
            "Trainable params: 12,667,039\n",
            "Non-trainable params: 1,282\n",
            "__________________________________________________________________________________________________\n",
            "None\n",
            "Epoch 1 of 50\n",
            "116/117 [============================>.] - ETA: 0s\n",
            "Testing for epoch 1:\n",
            "component              | loss | dense_loss      | dense_1_loss\n",
            "-----------------------------------------------------------------\n",
            "generator (train)      | 0.64 | 0.40            | 0.24 \n",
            "generator (test)       | 3.31 | 2.35            | 0.96 \n",
            "discriminator (train)  | 0.72 | 0.05            | 0.67 \n",
            "discriminator (test)   | 1.43 | 0.47            | 0.96 \n",
            "16/16 [==============================] - 0s 8ms/step\n",
            "Epoch 2 of 50\n",
            "116/117 [============================>.] - ETA: 0s\n",
            "Testing for epoch 2:\n",
            "component              | loss | dense_loss      | dense_1_loss\n",
            "-----------------------------------------------------------------\n",
            "generator (train)      | 0.00 | 0.00            | 0.00 \n",
            "generator (test)       | 3.38 | 3.10            | 0.29 \n",
            "discriminator (train)  | 0.14 | 0.00            | 0.14 \n",
            "discriminator (test)   | 0.55 | 0.04            | 0.51 \n",
            "16/16 [==============================] - 0s 8ms/step\n",
            "Epoch 3 of 50\n",
            "116/117 [============================>.] - ETA: 0s\n",
            "Testing for epoch 3:\n",
            "component              | loss | dense_loss      | dense_1_loss\n",
            "-----------------------------------------------------------------\n",
            "generator (train)      | 0.00 | 0.00            | 0.00 \n",
            "generator (test)       | 4.63 | 4.62            | 0.01 \n",
            "discriminator (train)  | 0.08 | 0.00            | 0.08 \n",
            "discriminator (test)   | 0.22 | 0.01            | 0.21 \n",
            "16/16 [==============================] - 0s 9ms/step\n",
            "Epoch 4 of 50\n",
            "116/117 [============================>.] - ETA: 0s\n",
            "Testing for epoch 4:\n",
            "component              | loss | dense_loss      | dense_1_loss\n",
            "-----------------------------------------------------------------\n",
            "generator (train)      | 0.00 | 0.00            | 0.00 \n",
            "generator (test)       | 11.69 | 11.69           | 0.00 \n",
            "discriminator (train)  | 0.07 | 0.00            | 0.07 \n",
            "discriminator (test)   | 0.11 | 0.00            | 0.11 \n",
            "16/16 [==============================] - 0s 8ms/step\n",
            "Epoch 5 of 50\n",
            "116/117 [============================>.] - ETA: 0s\n",
            "Testing for epoch 5:\n",
            "component              | loss | dense_loss      | dense_1_loss\n",
            "-----------------------------------------------------------------\n",
            "generator (train)      | 10.19 | 7.21            | 2.98 \n",
            "generator (test)       | 12.33 | 11.40           | 0.93 \n",
            "discriminator (train)  | 1.83 | 0.44            | 1.38 \n",
            "discriminator (test)   | 4.91 | 4.07            | 0.84 \n",
            "16/16 [==============================] - 0s 8ms/step\n",
            "Epoch 6 of 50\n",
            "116/117 [============================>.] - ETA: 0s\n",
            "Testing for epoch 6:\n",
            "component              | loss | dense_loss      | dense_1_loss\n",
            "-----------------------------------------------------------------\n",
            "generator (train)      | 1.25 | 0.78            | 0.47 \n",
            "generator (test)       | 10.20 | 9.19            | 1.01 \n",
            "discriminator (train)  | 0.57 | 0.07            | 0.50 \n",
            "discriminator (test)   | 2.30 | 1.27            | 1.04 \n",
            "16/16 [==============================] - 0s 8ms/step\n",
            "Epoch 7 of 50\n",
            "116/117 [============================>.] - ETA: 0s\n",
            "Testing for epoch 7:\n",
            "component              | loss | dense_loss      | dense_1_loss\n",
            "-----------------------------------------------------------------\n",
            "generator (train)      | 0.03 | 0.01            | 0.01 \n",
            "generator (test)       | 9.56 | 9.09            | 0.48 \n",
            "discriminator (train)  | 0.12 | 0.00            | 0.12 \n",
            "discriminator (test)   | 2.25 | 1.72            | 0.53 \n",
            "16/16 [==============================] - 0s 8ms/step\n",
            "Epoch 8 of 50\n",
            "116/117 [============================>.] - ETA: 0s\n",
            "Testing for epoch 8:\n",
            "component              | loss | dense_loss      | dense_1_loss\n",
            "-----------------------------------------------------------------\n",
            "generator (train)      | 3.38 | 2.09            | 1.29 \n",
            "generator (test)       | 2.27 | 0.82            | 1.44 \n",
            "discriminator (train)  | 1.48 | 0.29            | 1.19 \n",
            "discriminator (test)   | 1.25 | 0.32            | 0.92 \n",
            "16/16 [==============================] - 0s 8ms/step\n",
            "Epoch 9 of 50\n",
            "116/117 [============================>.] - ETA: 0s\n",
            "Testing for epoch 9:\n",
            "component              | loss | dense_loss      | dense_1_loss\n",
            "-----------------------------------------------------------------\n",
            "generator (train)      | 4.30 | 3.37            | 0.92 \n",
            "generator (test)       | 5.38 | 4.20            | 1.18 \n",
            "discriminator (train)  | 0.58 | 0.02            | 0.56 \n",
            "discriminator (test)   | 0.70 | 0.02            | 0.68 \n",
            "16/16 [==============================] - 0s 8ms/step\n",
            "Epoch 10 of 50\n",
            "116/117 [============================>.] - ETA: 0s\n",
            "Testing for epoch 10:\n",
            "component              | loss | dense_loss      | dense_1_loss\n",
            "-----------------------------------------------------------------\n",
            "generator (train)      | 7.69 | 6.80            | 0.90 \n",
            "generator (test)       | 9.01 | 8.31            | 0.69 \n",
            "discriminator (train)  | 0.50 | 0.00            | 0.50 \n",
            "discriminator (test)   | 0.46 | 0.00            | 0.46 \n",
            "16/16 [==============================] - 0s 9ms/step\n",
            "Epoch 11 of 50\n",
            "116/117 [============================>.] - ETA: 0s\n",
            "Testing for epoch 11:\n",
            "component              | loss | dense_loss      | dense_1_loss\n",
            "-----------------------------------------------------------------\n",
            "generator (train)      | 7.91 | 7.14            | 0.76 \n",
            "generator (test)       | 6.03 | 5.32            | 0.71 \n",
            "discriminator (train)  | 0.48 | 0.01            | 0.48 \n",
            "discriminator (test)   | 0.52 | 0.02            | 0.49 \n",
            "16/16 [==============================] - 0s 8ms/step\n",
            "Epoch 12 of 50\n",
            "116/117 [============================>.] - ETA: 0s\n",
            "Testing for epoch 12:\n",
            "component              | loss | dense_loss      | dense_1_loss\n",
            "-----------------------------------------------------------------\n",
            "generator (train)      | 6.96 | 6.24            | 0.72 \n",
            "generator (test)       | 7.03 | 6.33            | 0.70 \n",
            "discriminator (train)  | 0.47 | 0.01            | 0.46 \n",
            "discriminator (test)   | 0.47 | 0.01            | 0.47 \n",
            "16/16 [==============================] - 0s 8ms/step\n",
            "Epoch 13 of 50\n",
            "116/117 [============================>.] - ETA: 0s\n",
            "Testing for epoch 13:\n",
            "component              | loss | dense_loss      | dense_1_loss\n",
            "-----------------------------------------------------------------\n",
            "generator (train)      | 6.99 | 6.27            | 0.72 \n",
            "generator (test)       | 8.08 | 7.36            | 0.72 \n",
            "discriminator (train)  | 0.45 | 0.00            | 0.45 \n",
            "discriminator (test)   | 0.49 | 0.00            | 0.49 \n",
            "16/16 [==============================] - 0s 8ms/step\n",
            "Epoch 14 of 50\n",
            "116/117 [============================>.] - ETA: 0s\n",
            "Testing for epoch 14:\n",
            "component              | loss | dense_loss      | dense_1_loss\n",
            "-----------------------------------------------------------------\n",
            "generator (train)      | 5.78 | 5.01            | 0.77 \n",
            "generator (test)       | 4.29 | 3.41            | 0.88 \n",
            "discriminator (train)  | 0.43 | 0.00            | 0.43 \n",
            "discriminator (test)   | 0.57 | 0.02            | 0.55 \n",
            "16/16 [==============================] - 0s 9ms/step\n",
            "Epoch 15 of 50\n",
            "116/117 [============================>.] - ETA: 0s\n",
            "Testing for epoch 15:\n",
            "component              | loss | dense_loss      | dense_1_loss\n",
            "-----------------------------------------------------------------\n",
            "generator (train)      | 4.74 | 3.98            | 0.76 \n",
            "generator (test)       | 5.13 | 4.42            | 0.71 \n",
            "discriminator (train)  | 0.42 | 0.00            | 0.42 \n",
            "discriminator (test)   | 0.51 | 0.01            | 0.50 \n",
            "16/16 [==============================] - 0s 8ms/step\n",
            "Epoch 16 of 50\n",
            "116/117 [============================>.] - ETA: 0s\n",
            "Testing for epoch 16:\n",
            "component              | loss | dense_loss      | dense_1_loss\n",
            "-----------------------------------------------------------------\n",
            "generator (train)      | 5.72 | 5.00            | 0.71 \n",
            "generator (test)       | 7.94 | 7.25            | 0.69 \n",
            "discriminator (train)  | 0.42 | 0.00            | 0.42 \n",
            "discriminator (test)   | 0.53 | 0.00            | 0.53 \n",
            "16/16 [==============================] - 0s 9ms/step\n",
            "Epoch 17 of 50\n",
            "116/117 [============================>.] - ETA: 0s\n",
            "Testing for epoch 17:\n",
            "component              | loss | dense_loss      | dense_1_loss\n",
            "-----------------------------------------------------------------\n",
            "generator (train)      | 5.89 | 5.19            | 0.71 \n",
            "generator (test)       | 4.73 | 4.04            | 0.69 \n",
            "discriminator (train)  | 0.41 | 0.00            | 0.41 \n",
            "discriminator (test)   | 0.54 | 0.01            | 0.53 \n",
            "16/16 [==============================] - 0s 8ms/step\n",
            "Epoch 18 of 50\n",
            "116/117 [============================>.] - ETA: 0s\n",
            "Testing for epoch 18:\n",
            "component              | loss | dense_loss      | dense_1_loss\n",
            "-----------------------------------------------------------------\n",
            "generator (train)      | 6.35 | 5.64            | 0.71 \n",
            "generator (test)       | 7.52 | 6.83            | 0.69 \n",
            "discriminator (train)  | 0.41 | 0.00            | 0.41 \n",
            "discriminator (test)   | 0.53 | 0.00            | 0.53 \n",
            "16/16 [==============================] - 0s 9ms/step\n",
            "Epoch 19 of 50\n",
            "116/117 [============================>.] - ETA: 0s\n",
            "Testing for epoch 19:\n",
            "component              | loss | dense_loss      | dense_1_loss\n",
            "-----------------------------------------------------------------\n",
            "generator (train)      | 7.39 | 6.67            | 0.71 \n",
            "generator (test)       | 6.25 | 5.55            | 0.69 \n",
            "discriminator (train)  | 0.40 | 0.00            | 0.40 \n",
            "discriminator (test)   | 0.54 | 0.00            | 0.54 \n",
            "16/16 [==============================] - 0s 9ms/step\n",
            "Epoch 20 of 50\n",
            "116/117 [============================>.] - ETA: 0s\n",
            "Testing for epoch 20:\n",
            "component              | loss | dense_loss      | dense_1_loss\n",
            "-----------------------------------------------------------------\n",
            "generator (train)      | 7.97 | 7.26            | 0.71 \n",
            "generator (test)       | 7.67 | 6.96            | 0.70 \n",
            "discriminator (train)  | 0.39 | 0.00            | 0.39 \n",
            "discriminator (test)   | 0.58 | 0.00            | 0.58 \n",
            "16/16 [==============================] - 0s 8ms/step\n",
            "Epoch 21 of 50\n",
            "116/117 [============================>.] - ETA: 0s\n",
            "Testing for epoch 21:\n",
            "component              | loss | dense_loss      | dense_1_loss\n",
            "-----------------------------------------------------------------\n",
            "generator (train)      | 7.25 | 6.54            | 0.72 \n",
            "generator (test)       | 7.88 | 7.15            | 0.72 \n",
            "discriminator (train)  | 0.40 | 0.00            | 0.40 \n",
            "discriminator (test)   | 0.61 | 0.00            | 0.61 \n",
            "16/16 [==============================] - 0s 8ms/step\n",
            "Epoch 22 of 50\n",
            "116/117 [============================>.] - ETA: 0s\n",
            "Testing for epoch 22:\n",
            "component              | loss | dense_loss      | dense_1_loss\n",
            "-----------------------------------------------------------------\n",
            "generator (train)      | 7.82 | 7.09            | 0.72 \n",
            "generator (test)       | 6.12 | 5.41            | 0.70 \n",
            "discriminator (train)  | 0.42 | 0.00            | 0.42 \n",
            "discriminator (test)   | 0.59 | 0.00            | 0.59 \n",
            "16/16 [==============================] - 0s 8ms/step\n",
            "Epoch 23 of 50\n",
            "116/117 [============================>.] - ETA: 0s\n",
            "Testing for epoch 23:\n",
            "component              | loss | dense_loss      | dense_1_loss\n",
            "-----------------------------------------------------------------\n",
            "generator (train)      | 8.26 | 7.54            | 0.72 \n",
            "generator (test)       | 8.92 | 8.21            | 0.71 \n",
            "discriminator (train)  | 0.40 | 0.00            | 0.40 \n",
            "discriminator (test)   | 0.62 | 0.00            | 0.62 \n",
            "16/16 [==============================] - 0s 9ms/step\n",
            "Epoch 24 of 50\n",
            "116/117 [============================>.] - ETA: 0s\n",
            "Testing for epoch 24:\n",
            "component              | loss | dense_loss      | dense_1_loss\n",
            "-----------------------------------------------------------------\n",
            "generator (train)      | 121.16 | 117.30          | 3.86 \n",
            "generator (test)       | 63.26 | 62.57           | 0.69 \n",
            "discriminator (train)  | 2.09 | 0.12            | 1.97 \n",
            "discriminator (test)   | 0.80 | 0.00            | 0.80 \n",
            "16/16 [==============================] - 0s 9ms/step\n",
            "Epoch 25 of 50\n",
            "116/117 [============================>.] - ETA: 0s\n",
            "Testing for epoch 25:\n",
            "component              | loss | dense_loss      | dense_1_loss\n",
            "-----------------------------------------------------------------\n",
            "generator (train)      | 53.55 | 52.76           | 0.78 \n",
            "generator (test)       | 51.70 | 51.01           | 0.69 \n",
            "discriminator (train)  | 0.66 | 0.01            | 0.66 \n",
            "discriminator (test)   | 0.57 | 0.00            | 0.57 \n",
            "16/16 [==============================] - 0s 8ms/step\n",
            "Epoch 26 of 50\n",
            "116/117 [============================>.] - ETA: 0s\n",
            "Testing for epoch 26:\n",
            "component              | loss | dense_loss      | dense_1_loss\n",
            "-----------------------------------------------------------------\n",
            "generator (train)      | 45.63 | 44.87           | 0.76 \n",
            "generator (test)       | 45.29 | 44.60           | 0.69 \n",
            "discriminator (train)  | 0.56 | 0.00            | 0.56 \n",
            "discriminator (test)   | 0.55 | 0.00            | 0.55 \n",
            "16/16 [==============================] - 0s 9ms/step\n",
            "Epoch 27 of 50\n",
            "116/117 [============================>.] - ETA: 0s\n",
            "Testing for epoch 27:\n",
            "component              | loss | dense_loss      | dense_1_loss\n",
            "-----------------------------------------------------------------\n",
            "generator (train)      | 40.99 | 40.26           | 0.74 \n",
            "generator (test)       | 40.03 | 39.28           | 0.75 \n",
            "discriminator (train)  | 0.51 | 0.00            | 0.51 \n",
            "discriminator (test)   | 0.59 | 0.00            | 0.59 \n",
            "16/16 [==============================] - 0s 8ms/step\n",
            "Epoch 28 of 50\n",
            "116/117 [============================>.] - ETA: 0s\n",
            "Testing for epoch 28:\n",
            "component              | loss | dense_loss      | dense_1_loss\n",
            "-----------------------------------------------------------------\n",
            "generator (train)      | 35.94 | 35.22           | 0.72 \n",
            "generator (test)       | 32.59 | 31.85           | 0.74 \n",
            "discriminator (train)  | 0.47 | 0.00            | 0.47 \n",
            "discriminator (test)   | 0.58 | 0.00            | 0.58 \n",
            "16/16 [==============================] - 0s 10ms/step\n",
            "Epoch 29 of 50\n",
            "116/117 [============================>.] - ETA: 0s\n",
            "Testing for epoch 29:\n",
            "component              | loss | dense_loss      | dense_1_loss\n",
            "-----------------------------------------------------------------\n",
            "generator (train)      | 28.59 | 27.87           | 0.72 \n",
            "generator (test)       | 26.53 | 25.81           | 0.72 \n",
            "discriminator (train)  | 0.42 | 0.00            | 0.42 \n",
            "discriminator (test)   | 0.55 | 0.00            | 0.55 \n",
            "16/16 [==============================] - 0s 9ms/step\n",
            "Epoch 30 of 50\n",
            "116/117 [============================>.] - ETA: 0s\n",
            "Testing for epoch 30:\n",
            "component              | loss | dense_loss      | dense_1_loss\n",
            "-----------------------------------------------------------------\n",
            "generator (train)      | 21.57 | 20.86           | 0.71 \n",
            "generator (test)       | 17.50 | 16.80           | 0.70 \n",
            "discriminator (train)  | 0.42 | 0.00            | 0.42 \n",
            "discriminator (test)   | 0.60 | 0.00            | 0.60 \n",
            "16/16 [==============================] - 0s 10ms/step\n",
            "Epoch 31 of 50\n",
            "116/117 [============================>.] - ETA: 0s\n",
            "Testing for epoch 31:\n",
            "component              | loss | dense_loss      | dense_1_loss\n",
            "-----------------------------------------------------------------\n",
            "generator (train)      | 19.79 | 19.09           | 0.71 \n",
            "generator (test)       | 17.70 | 17.01           | 0.69 \n",
            "discriminator (train)  | 0.41 | 0.00            | 0.41 \n",
            "discriminator (test)   | 0.57 | 0.00            | 0.57 \n",
            "16/16 [==============================] - 0s 9ms/step\n",
            "Epoch 32 of 50\n",
            "116/117 [============================>.] - ETA: 0s\n",
            "Testing for epoch 32:\n",
            "component              | loss | dense_loss      | dense_1_loss\n",
            "-----------------------------------------------------------------\n",
            "generator (train)      | 19.70 | 18.99           | 0.71 \n",
            "generator (test)       | 17.56 | 16.86           | 0.69 \n",
            "discriminator (train)  | 0.40 | 0.00            | 0.40 \n",
            "discriminator (test)   | 0.56 | 0.00            | 0.56 \n",
            "16/16 [==============================] - 0s 8ms/step\n",
            "Epoch 33 of 50\n",
            "116/117 [============================>.] - ETA: 0s\n",
            "Testing for epoch 33:\n",
            "component              | loss | dense_loss      | dense_1_loss\n",
            "-----------------------------------------------------------------\n",
            "generator (train)      | 17.00 | 16.29           | 0.71 \n",
            "generator (test)       | 14.14 | 13.44           | 0.69 \n",
            "discriminator (train)  | 0.39 | 0.00            | 0.39 \n",
            "discriminator (test)   | 0.59 | 0.00            | 0.59 \n",
            "16/16 [==============================] - 0s 8ms/step\n",
            "Epoch 34 of 50\n",
            "116/117 [============================>.] - ETA: 0s\n",
            "Testing for epoch 34:\n",
            "component              | loss | dense_loss      | dense_1_loss\n",
            "-----------------------------------------------------------------\n",
            "generator (train)      | 16.55 | 15.85           | 0.70 \n",
            "generator (test)       | 14.06 | 13.35           | 0.71 \n",
            "discriminator (train)  | 0.39 | 0.00            | 0.39 \n",
            "discriminator (test)   | 0.65 | 0.00            | 0.65 \n",
            "16/16 [==============================] - 0s 9ms/step\n",
            "Epoch 35 of 50\n",
            "116/117 [============================>.] - ETA: 0s\n",
            "Testing for epoch 35:\n",
            "component              | loss | dense_loss      | dense_1_loss\n",
            "-----------------------------------------------------------------\n",
            "generator (train)      | 12.69 | 11.98           | 0.71 \n",
            "generator (test)       | 9.35 | 8.65            | 0.70 \n",
            "discriminator (train)  | 0.38 | 0.00            | 0.38 \n",
            "discriminator (test)   | 0.59 | 0.00            | 0.59 \n",
            "16/16 [==============================] - 0s 10ms/step\n",
            "Epoch 36 of 50\n",
            "116/117 [============================>.] - ETA: 0s\n",
            "Testing for epoch 36:\n",
            "component              | loss | dense_loss      | dense_1_loss\n",
            "-----------------------------------------------------------------\n",
            "generator (train)      | 11.62 | 10.91           | 0.71 \n",
            "generator (test)       | 10.89 | 10.19           | 0.69 \n",
            "discriminator (train)  | 0.38 | 0.00            | 0.38 \n",
            "discriminator (test)   | 0.62 | 0.00            | 0.62 \n",
            "16/16 [==============================] - 0s 8ms/step\n",
            "Epoch 37 of 50\n",
            "116/117 [============================>.] - ETA: 0s\n",
            "Testing for epoch 37:\n",
            "component              | loss | dense_loss      | dense_1_loss\n",
            "-----------------------------------------------------------------\n",
            "generator (train)      | 12.56 | 11.86           | 0.70 \n",
            "generator (test)       | 11.01 | 10.32           | 0.69 \n",
            "discriminator (train)  | 0.38 | 0.00            | 0.38 \n",
            "discriminator (test)   | 0.65 | 0.00            | 0.65 \n",
            "16/16 [==============================] - 0s 10ms/step\n",
            "Epoch 38 of 50\n",
            "116/117 [============================>.] - ETA: 0s\n",
            "Testing for epoch 38:\n",
            "component              | loss | dense_loss      | dense_1_loss\n",
            "-----------------------------------------------------------------\n",
            "generator (train)      | 11.72 | 11.02           | 0.71 \n",
            "generator (test)       | 5.68 | 4.98            | 0.70 \n",
            "discriminator (train)  | 0.38 | 0.00            | 0.38 \n",
            "discriminator (test)   | 0.60 | 0.00            | 0.60 \n",
            "16/16 [==============================] - 0s 8ms/step\n",
            "Epoch 39 of 50\n",
            "116/117 [============================>.] - ETA: 0s\n",
            "Testing for epoch 39:\n",
            "component              | loss | dense_loss      | dense_1_loss\n",
            "-----------------------------------------------------------------\n",
            "generator (train)      | 9.95 | 9.24            | 0.70 \n",
            "generator (test)       | 7.52 | 6.83            | 0.70 \n",
            "discriminator (train)  | 0.37 | 0.00            | 0.37 \n",
            "discriminator (test)   | 0.60 | 0.00            | 0.60 \n",
            "16/16 [==============================] - 0s 13ms/step\n",
            "Epoch 40 of 50\n",
            "116/117 [============================>.] - ETA: 0s\n",
            "Testing for epoch 40:\n",
            "component              | loss | dense_loss      | dense_1_loss\n",
            "-----------------------------------------------------------------\n",
            "generator (train)      | 10.33 | 9.62            | 0.70 \n",
            "generator (test)       | 8.59 | 7.88            | 0.71 \n",
            "discriminator (train)  | 0.38 | 0.00            | 0.38 \n",
            "discriminator (test)   | 0.63 | 0.00            | 0.63 \n",
            "16/16 [==============================] - 0s 8ms/step\n",
            "Epoch 41 of 50\n",
            "116/117 [============================>.] - ETA: 0s\n",
            "Testing for epoch 41:\n",
            "component              | loss | dense_loss      | dense_1_loss\n",
            "-----------------------------------------------------------------\n",
            "generator (train)      | 9.16 | 8.45            | 0.70 \n",
            "generator (test)       | 8.85 | 8.16            | 0.69 \n",
            "discriminator (train)  | 0.38 | 0.00            | 0.38 \n",
            "discriminator (test)   | 0.58 | 0.00            | 0.58 \n",
            "16/16 [==============================] - 0s 8ms/step\n",
            "Epoch 42 of 50\n",
            "116/117 [============================>.] - ETA: 0s\n",
            "Testing for epoch 42:\n",
            "component              | loss | dense_loss      | dense_1_loss\n",
            "-----------------------------------------------------------------\n",
            "generator (train)      | 12.79 | 12.08           | 0.70 \n",
            "generator (test)       | 8.38 | 7.69            | 0.69 \n",
            "discriminator (train)  | 0.39 | 0.00            | 0.39 \n",
            "discriminator (test)   | 0.62 | 0.00            | 0.62 \n",
            "16/16 [==============================] - 0s 8ms/step\n",
            "Epoch 43 of 50\n",
            "116/117 [============================>.] - ETA: 0s\n",
            "Testing for epoch 43:\n",
            "component              | loss | dense_loss      | dense_1_loss\n",
            "-----------------------------------------------------------------\n",
            "generator (train)      | 12.97 | 12.27           | 0.71 \n",
            "generator (test)       | 9.11 | 8.41            | 0.69 \n",
            "discriminator (train)  | 0.38 | 0.00            | 0.38 \n",
            "discriminator (test)   | 0.66 | 0.00            | 0.66 \n",
            "16/16 [==============================] - 0s 9ms/step\n",
            "Epoch 44 of 50\n",
            "116/117 [============================>.] - ETA: 0s\n",
            "Testing for epoch 44:\n",
            "component              | loss | dense_loss      | dense_1_loss\n",
            "-----------------------------------------------------------------\n",
            "generator (train)      | 12.34 | 11.64           | 0.71 \n",
            "generator (test)       | 8.15 | 7.46            | 0.69 \n",
            "discriminator (train)  | 0.39 | 0.00            | 0.39 \n",
            "discriminator (test)   | 0.64 | 0.00            | 0.64 \n",
            "16/16 [==============================] - 0s 8ms/step\n",
            "Epoch 45 of 50\n",
            "116/117 [============================>.] - ETA: 0s\n",
            "Testing for epoch 45:\n",
            "component              | loss | dense_loss      | dense_1_loss\n",
            "-----------------------------------------------------------------\n",
            "generator (train)      | 11.73 | 11.03           | 0.70 \n",
            "generator (test)       | 14.65 | 13.95           | 0.70 \n",
            "discriminator (train)  | 0.37 | 0.00            | 0.37 \n",
            "discriminator (test)   | 0.62 | 0.00            | 0.62 \n",
            "16/16 [==============================] - 0s 8ms/step\n",
            "Epoch 46 of 50\n",
            "116/117 [============================>.] - ETA: 0s\n",
            "Testing for epoch 46:\n",
            "component              | loss | dense_loss      | dense_1_loss\n",
            "-----------------------------------------------------------------\n",
            "generator (train)      | 12.19 | 11.49           | 0.70 \n",
            "generator (test)       | 9.95 | 9.26            | 0.69 \n",
            "discriminator (train)  | 0.37 | 0.00            | 0.37 \n",
            "discriminator (test)   | 0.65 | 0.00            | 0.65 \n",
            "16/16 [==============================] - 0s 8ms/step\n",
            "Epoch 47 of 50\n",
            "116/117 [============================>.] - ETA: 0s\n",
            "Testing for epoch 47:\n",
            "component              | loss | dense_loss      | dense_1_loss\n",
            "-----------------------------------------------------------------\n",
            "generator (train)      | 10.99 | 10.28           | 0.70 \n",
            "generator (test)       | 5.81 | 5.12            | 0.69 \n",
            "discriminator (train)  | 0.37 | 0.00            | 0.37 \n",
            "discriminator (test)   | 0.61 | 0.00            | 0.61 \n",
            "16/16 [==============================] - 0s 9ms/step\n",
            "Epoch 48 of 50\n",
            "116/117 [============================>.] - ETA: 0s\n",
            "Testing for epoch 48:\n",
            "component              | loss | dense_loss      | dense_1_loss\n",
            "-----------------------------------------------------------------\n",
            "generator (train)      | 12.52 | 11.81           | 0.70 \n",
            "generator (test)       | 9.51 | 8.81            | 0.70 \n",
            "discriminator (train)  | 0.38 | 0.00            | 0.38 \n",
            "discriminator (test)   | 0.63 | 0.00            | 0.63 \n",
            "16/16 [==============================] - 0s 8ms/step\n",
            "Epoch 49 of 50\n",
            "116/117 [============================>.] - ETA: 0s\n",
            "Testing for epoch 49:\n",
            "component              | loss | dense_loss      | dense_1_loss\n",
            "-----------------------------------------------------------------\n",
            "generator (train)      | 10.30 | 9.60            | 0.71 \n",
            "generator (test)       | 4.31 | 3.51            | 0.80 \n",
            "discriminator (train)  | 0.37 | 0.00            | 0.37 \n",
            "discriminator (test)   | 0.79 | 0.02            | 0.78 \n",
            "16/16 [==============================] - 0s 8ms/step\n",
            "Epoch 50 of 50\n",
            "116/117 [============================>.] - ETA: 0s\n",
            "Testing for epoch 50:\n",
            "component              | loss | dense_loss      | dense_1_loss\n",
            "-----------------------------------------------------------------\n",
            "generator (train)      | 10.41 | 9.71            | 0.70 \n",
            "generator (test)       | 7.06 | 6.36            | 0.69 \n",
            "discriminator (train)  | 0.38 | 0.00            | 0.38 \n",
            "discriminator (test)   | 0.66 | 0.00            | 0.66 \n",
            "16/16 [==============================] - 0s 8ms/step\n"
          ]
        }
      ]
    },
    {
      "cell_type": "code",
      "source": [
        "test_least_crossentropy = 100\n",
        "best_epoch_performance_test = 1\n",
        "for i in range(len(test_history['generator'])):\n",
        "  if test_least_crossentropy > test_history['generator'][i][0]:\n",
        "    test_least_crossentropy = test_history['generator'][i][0]\n",
        "    best_epoch_performance_test = i+1\n",
        "print(best_epoch_performance_test,test_least_crossentropy)"
      ],
      "metadata": {
        "colab": {
          "base_uri": "https://localhost:8080/"
        },
        "id": "64kXthudR98s",
        "outputId": "794d044a-5213-45cc-ef8f-a0edfa6707fc"
      },
      "execution_count": null,
      "outputs": [
        {
          "output_type": "stream",
          "name": "stdout",
          "text": [
            "8 2.2658846378326416\n"
          ]
        }
      ]
    },
    {
      "cell_type": "code",
      "source": [
        "generator.load_weights('/content/params_generator_epoch_007.hdf5')\n",
        "\n",
        "noise = np.random.uniform(-1, 1, (nb_test, latent_size))\n",
        "sampled_labels = np.ones((noise.shape[0],1))\n",
        "generated_images = generator.predict(\n",
        "            [noise, sampled_labels.reshape((-1, 1))], verbose=True)\n",
        "generated_images = generated_images.reshape(nb_test,400,3,1)"
      ],
      "metadata": {
        "colab": {
          "base_uri": "https://localhost:8080/"
        },
        "id": "qATLY3llSDfk",
        "outputId": "032c5243-fc1a-4e39-8194-58af6e065d3f"
      },
      "execution_count": null,
      "outputs": [
        {
          "output_type": "stream",
          "name": "stdout",
          "text": [
            "16/16 [==============================] - 0s 11ms/step\n"
          ]
        }
      ]
    },
    {
      "cell_type": "code",
      "source": [
        "W_train.shape"
      ],
      "metadata": {
        "colab": {
          "base_uri": "https://localhost:8080/"
        },
        "id": "p80vy1fMSDb0",
        "outputId": "f1066788-a695-45d8-9de5-210335071a57"
      },
      "execution_count": null,
      "outputs": [
        {
          "output_type": "execute_result",
          "data": {
            "text/plain": [
              "(8000, 400, 3, 1)"
            ]
          },
          "metadata": {},
          "execution_count": 12
        }
      ]
    },
    {
      "cell_type": "code",
      "source": [
        "X = np.append(generated_images, W_train, axis=0)\n",
        "X.shape"
      ],
      "metadata": {
        "colab": {
          "base_uri": "https://localhost:8080/"
        },
        "id": "RVWGFVweSDXs",
        "outputId": "35121276-27d3-45ae-a90a-4ff52059a233"
      },
      "execution_count": null,
      "outputs": [
        {
          "output_type": "execute_result",
          "data": {
            "text/plain": [
              "(8500, 400, 3, 1)"
            ]
          },
          "metadata": {},
          "execution_count": 15
        }
      ]
    },
    {
      "cell_type": "code",
      "source": [
        "sampled_labels = sampled_labels.reshape(-1,)\n",
        "sampled_labels.shape"
      ],
      "metadata": {
        "colab": {
          "base_uri": "https://localhost:8080/"
        },
        "id": "jSUPHiC5brey",
        "outputId": "0afc3c9d-b095-45c5-987e-300f5ffede42"
      },
      "execution_count": null,
      "outputs": [
        {
          "output_type": "execute_result",
          "data": {
            "text/plain": [
              "(500,)"
            ]
          },
          "metadata": {},
          "execution_count": 18
        }
      ]
    },
    {
      "cell_type": "code",
      "source": [
        "y = np.append(Y_train,sampled_labels, axis=0)\n",
        "y.shape"
      ],
      "metadata": {
        "colab": {
          "base_uri": "https://localhost:8080/"
        },
        "id": "XpGGlhv8SDPE",
        "outputId": "35ef074e-6cdb-4abd-e30d-807fdb0d43b1"
      },
      "execution_count": null,
      "outputs": [
        {
          "output_type": "execute_result",
          "data": {
            "text/plain": [
              "(8500,)"
            ]
          },
          "metadata": {},
          "execution_count": 19
        }
      ]
    },
    {
      "cell_type": "code",
      "source": [
        "def classifier(in_shape=(400,3,1), n_classes=2):\n",
        "\t# image input\n",
        "\tin_image = Input(shape=in_shape)\n",
        "\t# downsample to 14x14\n",
        "\tfe = Conv2D(64, (3,3), padding='same')(in_image)\n",
        "\tfe = LeakyReLU(alpha=0.2)(fe)\n",
        "#\tfe = Dropout(0.5)(fe)\n",
        "\t# normal\n",
        "\tfe = Conv2D(128, (3,3), padding='same')(fe)\n",
        "\tfe = BatchNormalization()(fe)\n",
        "\tfe = LeakyReLU(alpha=0.2)(fe)\n",
        "\tfe = Dropout(0.5)(fe)\n",
        "\t# downsample to 7x7\n",
        "\tfe = Conv2D(256, (3,3), padding='same')(fe)\n",
        "\tfe = BatchNormalization()(fe)\n",
        "\tfe = LeakyReLU(alpha=0.2)(fe)\n",
        "\tfe = Dropout(0.5)(fe)\n",
        "\t# normal\n",
        "\tfe = Conv2D(128, (3,3), padding='same')(fe)\n",
        "\tfe = BatchNormalization()(fe)\n",
        "\tfe = LeakyReLU(alpha=0.2)(fe)\n",
        "\tfe = Dropout(0.5)(fe)\n",
        "\t# flatten feature maps\n",
        "\tfe = Flatten()(fe)\n",
        "\t# real/fake output\n",
        "\t#out1 = Dense(1, activation='sigmoid')(fe)\n",
        "\t# class label output\n",
        "\toutput = Dense(n_classes, activation='softmax')(fe)\n",
        "\tmodel = Model(in_image, output)\n",
        "\t# compile model\n",
        "\topt = Adam(learning_rate=0.0002, beta_1=0.5)\n",
        "\tmodel.compile(loss=['sparse_categorical_crossentropy'],\n",
        "                  optimizer=opt,\n",
        "                 metrics='accuracy')\n",
        "\treturn model"
      ],
      "metadata": {
        "id": "wGwY1Zm_cwN4"
      },
      "execution_count": null,
      "outputs": []
    },
    {
      "cell_type": "code",
      "source": [
        "model = classifier()\n",
        "model.summary()"
      ],
      "metadata": {
        "colab": {
          "base_uri": "https://localhost:8080/"
        },
        "id": "q97pN1c3c42k",
        "outputId": "7d63795f-8f8d-40f5-9d01-723c5c930acb"
      },
      "execution_count": null,
      "outputs": [
        {
          "output_type": "stream",
          "name": "stdout",
          "text": [
            "Model: \"model_5\"\n",
            "_________________________________________________________________\n",
            " Layer (type)                Output Shape              Param #   \n",
            "=================================================================\n",
            " input_8 (InputLayer)        [(None, 400, 3, 1)]       0         \n",
            "                                                                 \n",
            " conv2d_18 (Conv2D)          (None, 400, 3, 64)        640       \n",
            "                                                                 \n",
            " leaky_re_lu_12 (LeakyReLU)  (None, 400, 3, 64)        0         \n",
            "                                                                 \n",
            " conv2d_19 (Conv2D)          (None, 400, 3, 128)       73856     \n",
            "                                                                 \n",
            " batch_normalization_15 (Bat  (None, 400, 3, 128)      512       \n",
            " chNormalization)                                                \n",
            "                                                                 \n",
            " leaky_re_lu_13 (LeakyReLU)  (None, 400, 3, 128)       0         \n",
            "                                                                 \n",
            " dropout_7 (Dropout)         (None, 400, 3, 128)       0         \n",
            "                                                                 \n",
            " conv2d_20 (Conv2D)          (None, 400, 3, 256)       295168    \n",
            "                                                                 \n",
            " batch_normalization_16 (Bat  (None, 400, 3, 256)      1024      \n",
            " chNormalization)                                                \n",
            "                                                                 \n",
            " leaky_re_lu_14 (LeakyReLU)  (None, 400, 3, 256)       0         \n",
            "                                                                 \n",
            " dropout_8 (Dropout)         (None, 400, 3, 256)       0         \n",
            "                                                                 \n",
            " conv2d_21 (Conv2D)          (None, 400, 3, 128)       295040    \n",
            "                                                                 \n",
            " batch_normalization_17 (Bat  (None, 400, 3, 128)      512       \n",
            " chNormalization)                                                \n",
            "                                                                 \n",
            " leaky_re_lu_15 (LeakyReLU)  (None, 400, 3, 128)       0         \n",
            "                                                                 \n",
            " dropout_9 (Dropout)         (None, 400, 3, 128)       0         \n",
            "                                                                 \n",
            " flatten_3 (Flatten)         (None, 153600)            0         \n",
            "                                                                 \n",
            " dense_6 (Dense)             (None, 2)                 307202    \n",
            "                                                                 \n",
            "=================================================================\n",
            "Total params: 973,954\n",
            "Trainable params: 972,930\n",
            "Non-trainable params: 1,024\n",
            "_________________________________________________________________\n"
          ]
        }
      ]
    },
    {
      "cell_type": "code",
      "source": [
        "from sklearn.model_selection import train_test_split\n",
        "X_train, X_val, y_train, y_val = train_test_split(W_train, Y_train, random_state=42,\n",
        "                                               stratify=Y_train)\n",
        "X_train.shape, y_train.shape"
      ],
      "metadata": {
        "colab": {
          "base_uri": "https://localhost:8080/"
        },
        "id": "duJc47Fec9BO",
        "outputId": "c8dcf9c5-c48d-49c3-8caf-606c4c6bec8f"
      },
      "execution_count": null,
      "outputs": [
        {
          "output_type": "execute_result",
          "data": {
            "text/plain": [
              "((6000, 400, 3, 1), (6000,))"
            ]
          },
          "metadata": {},
          "execution_count": 33
        }
      ]
    },
    {
      "cell_type": "code",
      "source": [
        "callback = tf.keras.callbacks.EarlyStopping(monitor='val_loss', patience=40)\n",
        "history = model.fit(X_train,y_train, epochs=100, batch_size = 64,\n",
        "                   validation_data = (X_val, y_val), \n",
        "                    callbacks=[callback]\n",
        "                    )"
      ],
      "metadata": {
        "colab": {
          "base_uri": "https://localhost:8080/"
        },
        "id": "5-3jBJ2edP3r",
        "outputId": "fd63fd7d-6eb6-4b9e-9099-ab957a4eac11"
      },
      "execution_count": null,
      "outputs": [
        {
          "output_type": "stream",
          "name": "stdout",
          "text": [
            "Epoch 1/100\n",
            "94/94 [==============================] - 10s 102ms/step - loss: 0.0625 - accuracy: 0.9837 - val_loss: 0.4067 - val_accuracy: 0.9465\n",
            "Epoch 2/100\n",
            "94/94 [==============================] - 9s 97ms/step - loss: 0.0562 - accuracy: 0.9848 - val_loss: 0.5126 - val_accuracy: 0.9385\n",
            "Epoch 3/100\n",
            "94/94 [==============================] - 10s 103ms/step - loss: 0.0566 - accuracy: 0.9873 - val_loss: 0.6498 - val_accuracy: 0.9280\n",
            "Epoch 4/100\n",
            "94/94 [==============================] - 9s 97ms/step - loss: 0.0658 - accuracy: 0.9825 - val_loss: 0.5913 - val_accuracy: 0.9445\n",
            "Epoch 5/100\n",
            "94/94 [==============================] - 9s 96ms/step - loss: 0.0551 - accuracy: 0.9868 - val_loss: 0.4156 - val_accuracy: 0.9500\n",
            "Epoch 6/100\n",
            "94/94 [==============================] - 10s 102ms/step - loss: 0.0678 - accuracy: 0.9855 - val_loss: 0.7360 - val_accuracy: 0.9300\n",
            "Epoch 7/100\n",
            "94/94 [==============================] - 9s 101ms/step - loss: 0.0785 - accuracy: 0.9823 - val_loss: 0.6057 - val_accuracy: 0.9465\n",
            "Epoch 8/100\n",
            "94/94 [==============================] - 9s 95ms/step - loss: 0.0612 - accuracy: 0.9853 - val_loss: 0.7518 - val_accuracy: 0.9260\n",
            "Epoch 9/100\n",
            "94/94 [==============================] - 9s 96ms/step - loss: 0.0592 - accuracy: 0.9860 - val_loss: 0.5892 - val_accuracy: 0.9340\n",
            "Epoch 10/100\n",
            "94/94 [==============================] - 9s 95ms/step - loss: 0.0389 - accuracy: 0.9898 - val_loss: 0.4634 - val_accuracy: 0.9560\n",
            "Epoch 11/100\n",
            "94/94 [==============================] - 10s 102ms/step - loss: 0.0542 - accuracy: 0.9875 - val_loss: 0.4809 - val_accuracy: 0.9540\n",
            "Epoch 12/100\n",
            "94/94 [==============================] - 9s 96ms/step - loss: 0.0364 - accuracy: 0.9902 - val_loss: 0.5072 - val_accuracy: 0.9495\n",
            "Epoch 13/100\n",
            "94/94 [==============================] - 9s 96ms/step - loss: 0.0294 - accuracy: 0.9925 - val_loss: 0.4729 - val_accuracy: 0.9555\n",
            "Epoch 14/100\n",
            "94/94 [==============================] - 10s 102ms/step - loss: 0.0467 - accuracy: 0.9888 - val_loss: 0.6046 - val_accuracy: 0.9455\n",
            "Epoch 15/100\n",
            "94/94 [==============================] - 9s 101ms/step - loss: 0.0480 - accuracy: 0.9888 - val_loss: 0.5584 - val_accuracy: 0.9510\n",
            "Epoch 16/100\n",
            "94/94 [==============================] - 9s 101ms/step - loss: 0.0289 - accuracy: 0.9920 - val_loss: 0.8907 - val_accuracy: 0.9220\n",
            "Epoch 17/100\n",
            "94/94 [==============================] - 9s 96ms/step - loss: 0.0457 - accuracy: 0.9890 - val_loss: 0.6475 - val_accuracy: 0.9440\n",
            "Epoch 18/100\n",
            "94/94 [==============================] - 10s 101ms/step - loss: 0.0448 - accuracy: 0.9888 - val_loss: 0.5594 - val_accuracy: 0.9475\n",
            "Epoch 19/100\n",
            "94/94 [==============================] - 9s 95ms/step - loss: 0.0267 - accuracy: 0.9922 - val_loss: 0.6909 - val_accuracy: 0.9480\n",
            "Epoch 20/100\n",
            "94/94 [==============================] - 9s 96ms/step - loss: 0.0327 - accuracy: 0.9910 - val_loss: 0.6316 - val_accuracy: 0.9460\n",
            "Epoch 21/100\n",
            "94/94 [==============================] - 9s 96ms/step - loss: 0.0258 - accuracy: 0.9940 - val_loss: 0.6622 - val_accuracy: 0.9480\n",
            "Epoch 22/100\n",
            "94/94 [==============================] - 9s 95ms/step - loss: 0.0455 - accuracy: 0.9887 - val_loss: 0.6158 - val_accuracy: 0.9500\n",
            "Epoch 23/100\n",
            "94/94 [==============================] - 9s 96ms/step - loss: 0.0519 - accuracy: 0.9915 - val_loss: 0.5812 - val_accuracy: 0.9560\n",
            "Epoch 24/100\n",
            "94/94 [==============================] - 10s 102ms/step - loss: 0.0383 - accuracy: 0.9918 - val_loss: 0.8181 - val_accuracy: 0.9345\n",
            "Epoch 25/100\n",
            "94/94 [==============================] - 9s 101ms/step - loss: 0.0623 - accuracy: 0.9892 - val_loss: 0.6875 - val_accuracy: 0.9455\n",
            "Epoch 26/100\n",
            "94/94 [==============================] - 9s 95ms/step - loss: 0.0451 - accuracy: 0.9907 - val_loss: 0.7000 - val_accuracy: 0.9445\n",
            "Epoch 27/100\n",
            "94/94 [==============================] - 9s 96ms/step - loss: 0.0562 - accuracy: 0.9880 - val_loss: 0.6588 - val_accuracy: 0.9465\n",
            "Epoch 28/100\n",
            "94/94 [==============================] - 9s 101ms/step - loss: 0.0598 - accuracy: 0.9887 - val_loss: 0.8114 - val_accuracy: 0.9390\n",
            "Epoch 29/100\n",
            "94/94 [==============================] - 9s 96ms/step - loss: 0.0347 - accuracy: 0.9913 - val_loss: 0.7029 - val_accuracy: 0.9495\n",
            "Epoch 30/100\n",
            "94/94 [==============================] - 10s 102ms/step - loss: 0.0446 - accuracy: 0.9915 - val_loss: 0.6846 - val_accuracy: 0.9470\n",
            "Epoch 31/100\n",
            "94/94 [==============================] - 10s 101ms/step - loss: 0.0396 - accuracy: 0.9920 - val_loss: 0.6252 - val_accuracy: 0.9465\n",
            "Epoch 32/100\n",
            "94/94 [==============================] - 9s 96ms/step - loss: 0.0371 - accuracy: 0.9915 - val_loss: 0.7164 - val_accuracy: 0.9530\n",
            "Epoch 33/100\n",
            "94/94 [==============================] - 9s 97ms/step - loss: 0.0313 - accuracy: 0.9930 - val_loss: 0.7371 - val_accuracy: 0.9505\n",
            "Epoch 34/100\n",
            "94/94 [==============================] - 9s 96ms/step - loss: 0.0260 - accuracy: 0.9928 - val_loss: 0.7406 - val_accuracy: 0.9465\n",
            "Epoch 35/100\n",
            "94/94 [==============================] - 10s 102ms/step - loss: 0.0398 - accuracy: 0.9913 - val_loss: 0.7986 - val_accuracy: 0.9390\n",
            "Epoch 36/100\n",
            "94/94 [==============================] - 9s 97ms/step - loss: 0.0294 - accuracy: 0.9925 - val_loss: 0.8540 - val_accuracy: 0.9460\n",
            "Epoch 37/100\n",
            "94/94 [==============================] - 9s 96ms/step - loss: 0.0295 - accuracy: 0.9922 - val_loss: 0.7371 - val_accuracy: 0.9510\n",
            "Epoch 38/100\n",
            "94/94 [==============================] - 10s 102ms/step - loss: 0.0252 - accuracy: 0.9935 - val_loss: 0.8091 - val_accuracy: 0.9470\n",
            "Epoch 39/100\n",
            "94/94 [==============================] - 9s 96ms/step - loss: 0.0166 - accuracy: 0.9955 - val_loss: 0.8050 - val_accuracy: 0.9365\n",
            "Epoch 40/100\n",
            "94/94 [==============================] - 9s 101ms/step - loss: 0.0317 - accuracy: 0.9938 - val_loss: 1.0371 - val_accuracy: 0.9300\n",
            "Epoch 41/100\n",
            "94/94 [==============================] - 10s 102ms/step - loss: 0.0360 - accuracy: 0.9925 - val_loss: 0.8274 - val_accuracy: 0.9420\n"
          ]
        }
      ]
    },
    {
      "cell_type": "code",
      "source": [
        "plt.plot(history.history['loss'])"
      ],
      "metadata": {
        "colab": {
          "base_uri": "https://localhost:8080/",
          "height": 447
        },
        "id": "b8bbv-B2eRcv",
        "outputId": "a31e94c8-a4af-4c56-d032-32110e412b13"
      },
      "execution_count": null,
      "outputs": [
        {
          "output_type": "execute_result",
          "data": {
            "text/plain": [
              "[<matplotlib.lines.Line2D at 0x7f087d9db6d0>]"
            ]
          },
          "metadata": {},
          "execution_count": 41
        },
        {
          "output_type": "display_data",
          "data": {
            "text/plain": [
              "<Figure size 640x480 with 1 Axes>"
            ],
            "image/png": "[encoded data removed]"
          },
          "metadata": {}
        }
      ]
    },
    {
      "cell_type": "code",
      "source": [
        "plt.plot(history.history['accuracy'])\n",
        "plt.plot(history.history['val_accuracy'])\n",
        "plt.title('Training & Validation loss')\n",
        "plt.ylabel('loss')\n",
        "plt.xlabel('epoch')\n",
        "plt.legend(['train', 'test'], loc='upper left')\n",
        "plt.show()"
      ],
      "metadata": {
        "colab": {
          "base_uri": "https://localhost:8080/",
          "height": 472
        },
        "id": "pq3q9K9_yrPV",
        "outputId": "82a1624b-9d80-48be-8e66-a53b58f80c7a"
      },
      "execution_count": null,
      "outputs": [
        {
          "output_type": "display_data",
          "data": {
            "text/plain": [
              "<Figure size 640x480 with 1 Axes>"
            ],
            "image/png": "[encoded data removed]"
          },
          "metadata": {}
        }
      ]
    },
    {
      "cell_type": "code",
      "source": [
        "predictions = model.predict(W_test)\n",
        "preds = np.zeros((predictions.shape[0],))\n",
        "for i in range(len(predictions)):\n",
        "    preds[i] = np.argmax(predictions[i])\n",
        "preds"
      ],
      "metadata": {
        "colab": {
          "base_uri": "https://localhost:8080/"
        },
        "id": "-7x8xyhezvsE",
        "outputId": "6fb1e736-c2de-4495-ff23-1aa2ed426cba"
      },
      "execution_count": null,
      "outputs": [
        {
          "output_type": "stream",
          "name": "stdout",
          "text": [
            "63/63 [==============================] - 1s 13ms/step\n"
          ]
        },
        {
          "output_type": "execute_result",
          "data": {
            "text/plain": [
              "array([1., 1., 1., ..., 0., 0., 1.])"
            ]
          },
          "metadata": {},
          "execution_count": 44
        }
      ]
    },
    {
      "cell_type": "code",
      "source": [
        "from sklearn.metrics import accuracy_score\n",
        "accuracy_score1 = accuracy_score(Y_test,preds)\n",
        "accuracy_score1"
      ],
      "metadata": {
        "colab": {
          "base_uri": "https://localhost:8080/"
        },
        "id": "4YyIiCOS0qzZ",
        "outputId": "15556c74-b64b-4dff-dfa2-80698bec057d"
      },
      "execution_count": null,
      "outputs": [
        {
          "output_type": "execute_result",
          "data": {
            "text/plain": [
              "0.949"
            ]
          },
          "metadata": {},
          "execution_count": 45
        }
      ]
    },
    {
      "cell_type": "code",
      "source": [
        "from sklearn.metrics import classification_report\n",
        "print(classification_report(Y_test, preds))"
      ],
      "metadata": {
        "colab": {
          "base_uri": "https://localhost:8080/"
        },
        "id": "dD8GlwQE0xPt",
        "outputId": "2271294d-6be0-4c28-922c-07d835ffbf12"
      },
      "execution_count": null,
      "outputs": [
        {
          "output_type": "stream",
          "name": "stdout",
          "text": [
            "              precision    recall  f1-score   support\n",
            "\n",
            "           0       0.96      0.93      0.95       986\n",
            "           1       0.94      0.97      0.95      1014\n",
            "\n",
            "    accuracy                           0.95      2000\n",
            "   macro avg       0.95      0.95      0.95      2000\n",
            "weighted avg       0.95      0.95      0.95      2000\n",
            "\n"
          ]
        }
      ]
    },
    {
      "cell_type": "code",
      "source": [
        "def classifier2(in_shape=(400,3,1), n_classes=2):\n",
        "  # image input\n",
        "\tin_image = Input(shape=in_shape)\n",
        "\t# downsample to 14x14\n",
        "\tfe = Conv2D(64, (3,3), padding='same')(in_image)\n",
        "\tfe = LeakyReLU(alpha=0.2)(fe)\n",
        "\tfe = Dropout(0.5)(fe)\n",
        "\t# normal\n",
        "\tfe = Conv2D(128, (3,3), padding='same')(fe)\n",
        "\tfe = BatchNormalization()(fe)\n",
        "\tfe = LeakyReLU(alpha=0.2)(fe)\n",
        "\tfe = Dropout(0.5)(fe)\n",
        "\t# normal\n",
        "\tfe = Conv2D(128, (3,3), padding='same')(fe)\n",
        "\tfe = BatchNormalization()(fe)\n",
        "\tfe = LeakyReLU(alpha=0.2)(fe)\n",
        "\tfe = Dropout(0.5)(fe)\n",
        "\t# flatten feature maps\n",
        "\tfe = Flatten()(fe)\n",
        "\t# real/fake output\n",
        "\t#out1 = Dense(1, activation='sigmoid')(fe)\n",
        "\t# class label output\n",
        "\toutput = Dense(n_classes, activation='softmax')(fe)\n",
        "\tmodel = Model(in_image, output)\n",
        "\t# compile model\n",
        "\topt = Adam(learning_rate=0.0002, beta_1=0.5)\n",
        "\tmodel.compile(loss=['sparse_categorical_crossentropy'],\n",
        "                  optimizer=opt,\n",
        "                 metrics='accuracy')\n",
        "\t\n",
        "\treturn model"
      ],
      "metadata": {
        "id": "Q3L17lpz1ND8"
      },
      "execution_count": null,
      "outputs": []
    },
    {
      "cell_type": "code",
      "source": [
        "model2 = classifier2()\n",
        "model2.summary()"
      ],
      "metadata": {
        "colab": {
          "base_uri": "https://localhost:8080/"
        },
        "id": "dXqMqTqG2Ukx",
        "outputId": "026d76dd-21de-4e3e-b97e-19cc7871c908"
      },
      "execution_count": null,
      "outputs": [
        {
          "output_type": "stream",
          "name": "stdout",
          "text": [
            "Model: \"model_8\"\n",
            "_________________________________________________________________\n",
            " Layer (type)                Output Shape              Param #   \n",
            "=================================================================\n",
            " input_11 (InputLayer)       [(None, 400, 3, 1)]       0         \n",
            "                                                                 \n",
            " conv2d_28 (Conv2D)          (None, 400, 3, 64)        640       \n",
            "                                                                 \n",
            " leaky_re_lu_22 (LeakyReLU)  (None, 400, 3, 64)        0         \n",
            "                                                                 \n",
            " dropout_16 (Dropout)        (None, 400, 3, 64)        0         \n",
            "                                                                 \n",
            " conv2d_29 (Conv2D)          (None, 400, 3, 128)       73856     \n",
            "                                                                 \n",
            " batch_normalization_22 (Bat  (None, 400, 3, 128)      512       \n",
            " chNormalization)                                                \n",
            "                                                                 \n",
            " leaky_re_lu_23 (LeakyReLU)  (None, 400, 3, 128)       0         \n",
            "                                                                 \n",
            " dropout_17 (Dropout)        (None, 400, 3, 128)       0         \n",
            "                                                                 \n",
            " conv2d_30 (Conv2D)          (None, 400, 3, 128)       147584    \n",
            "                                                                 \n",
            " batch_normalization_23 (Bat  (None, 400, 3, 128)      512       \n",
            " chNormalization)                                                \n",
            "                                                                 \n",
            " leaky_re_lu_24 (LeakyReLU)  (None, 400, 3, 128)       0         \n",
            "                                                                 \n",
            " dropout_18 (Dropout)        (None, 400, 3, 128)       0         \n",
            "                                                                 \n",
            " flatten_6 (Flatten)         (None, 153600)            0         \n",
            "                                                                 \n",
            " dense_9 (Dense)             (None, 2)                 307202    \n",
            "                                                                 \n",
            "=================================================================\n",
            "Total params: 530,306\n",
            "Trainable params: 529,794\n",
            "Non-trainable params: 512\n",
            "_________________________________________________________________\n"
          ]
        }
      ]
    },
    {
      "cell_type": "code",
      "source": [
        "#callback = tf.keras.callbacks.EarlyStopping(monitor='val_loss', patience=40)\n",
        "history = model2.fit(X_train,y_train, epochs=10, batch_size = 64,\n",
        "                   validation_data = (X_val, y_val), \n",
        "                    #callbacks=[callback]\n",
        "                    )"
      ],
      "metadata": {
        "colab": {
          "base_uri": "https://localhost:8080/"
        },
        "id": "02s_-7Ay2inX",
        "outputId": "0f0a7526-8fa7-49aa-9f7a-06526b591d62"
      },
      "execution_count": null,
      "outputs": [
        {
          "output_type": "stream",
          "name": "stdout",
          "text": [
            "Epoch 1/10\n",
            "94/94 [==============================] - 5s 48ms/step - loss: 0.4923 - accuracy: 0.8497 - val_loss: 0.8739 - val_accuracy: 0.5010\n",
            "Epoch 2/10\n",
            "94/94 [==============================] - 4s 45ms/step - loss: 0.3392 - accuracy: 0.9060 - val_loss: 1.1107 - val_accuracy: 0.5010\n",
            "Epoch 3/10\n",
            "94/94 [==============================] - 5s 48ms/step - loss: 0.2756 - accuracy: 0.9200 - val_loss: 0.6704 - val_accuracy: 0.6070\n",
            "Epoch 4/10\n",
            "94/94 [==============================] - 4s 46ms/step - loss: 0.2779 - accuracy: 0.9202 - val_loss: 0.4810 - val_accuracy: 0.7760\n",
            "Epoch 5/10\n",
            "94/94 [==============================] - 4s 45ms/step - loss: 0.2680 - accuracy: 0.9283 - val_loss: 0.2513 - val_accuracy: 0.9050\n",
            "Epoch 6/10\n",
            "94/94 [==============================] - 5s 48ms/step - loss: 0.2721 - accuracy: 0.9295 - val_loss: 0.2132 - val_accuracy: 0.9345\n",
            "Epoch 7/10\n",
            "94/94 [==============================] - 4s 46ms/step - loss: 0.2170 - accuracy: 0.9428 - val_loss: 0.2977 - val_accuracy: 0.9145\n",
            "Epoch 8/10\n",
            "94/94 [==============================] - 4s 45ms/step - loss: 0.2415 - accuracy: 0.9362 - val_loss: 0.4226 - val_accuracy: 0.9015\n",
            "Epoch 9/10\n",
            "94/94 [==============================] - 4s 48ms/step - loss: 0.2094 - accuracy: 0.9403 - val_loss: 0.2918 - val_accuracy: 0.9275\n",
            "Epoch 10/10\n",
            "94/94 [==============================] - 5s 50ms/step - loss: 0.2024 - accuracy: 0.9458 - val_loss: 0.3355 - val_accuracy: 0.9200\n"
          ]
        }
      ]
    },
    {
      "cell_type": "code",
      "source": [
        "predictions = model2.predict(W_test)\n",
        "preds2 = np.zeros((predictions.shape[0],))\n",
        "for i in range(len(predictions)):\n",
        "    preds2[i] = np.argmax(predictions[i])\n",
        "preds2"
      ],
      "metadata": {
        "colab": {
          "base_uri": "https://localhost:8080/"
        },
        "id": "AWthKxHS2k8T",
        "outputId": "3f75c530-c599-408b-fb62-536925c1949e"
      },
      "execution_count": null,
      "outputs": [
        {
          "output_type": "stream",
          "name": "stdout",
          "text": [
            "63/63 [==============================] - 0s 6ms/step\n"
          ]
        },
        {
          "output_type": "execute_result",
          "data": {
            "text/plain": [
              "array([1., 1., 1., ..., 0., 0., 0.])"
            ]
          },
          "metadata": {},
          "execution_count": 76
        }
      ]
    },
    {
      "cell_type": "code",
      "source": [
        "accuracy_score2 = accuracy_score(Y_test,preds2)\n",
        "accuracy_score2"
      ],
      "metadata": {
        "colab": {
          "base_uri": "https://localhost:8080/"
        },
        "id": "GhcriBq_29F1",
        "outputId": "5c82fef7-2abc-4401-cc5d-34c2123a0759"
      },
      "execution_count": null,
      "outputs": [
        {
          "output_type": "execute_result",
          "data": {
            "text/plain": [
              "0.927"
            ]
          },
          "metadata": {},
          "execution_count": 77
        }
      ]
    },
    {
      "cell_type": "code",
      "source": [
        "print(classification_report(Y_test, preds2))"
      ],
      "metadata": {
        "colab": {
          "base_uri": "https://localhost:8080/"
        },
        "id": "ZhQDXqKB3EkF",
        "outputId": "fb320b9f-c6e4-45a1-f373-58c22f6dd02f"
      },
      "execution_count": null,
      "outputs": [
        {
          "output_type": "stream",
          "name": "stdout",
          "text": [
            "              precision    recall  f1-score   support\n",
            "\n",
            "           0       0.96      0.89      0.92       986\n",
            "           1       0.90      0.96      0.93      1014\n",
            "\n",
            "    accuracy                           0.93      2000\n",
            "   macro avg       0.93      0.93      0.93      2000\n",
            "weighted avg       0.93      0.93      0.93      2000\n",
            "\n"
          ]
        }
      ]
    },
    {
      "cell_type": "code",
      "source": [
        "from sklearn.metrics import confusion_matrix, ConfusionMatrixDisplay\n",
        "cm = confusion_matrix(Y_test, preds2, )\n",
        "disp = ConfusionMatrixDisplay(confusion_matrix=cm,\n",
        "                            )\n",
        "disp.plot()\n",
        "plt.show()"
      ],
      "metadata": {
        "colab": {
          "base_uri": "https://localhost:8080/",
          "height": 449
        },
        "id": "PMsPjxh23VQC",
        "outputId": "8d4f30fc-92fa-4408-9688-8d93f434fefa"
      },
      "execution_count": null,
      "outputs": [
        {
          "output_type": "display_data",
          "data": {
            "text/plain": [
              "<Figure size 640x480 with 2 Axes>"
            ],
            "image/png": "[encoded data removed]"
          },
          "metadata": {}
        }
      ]
    },
    {
      "cell_type": "code",
      "source": [
        "cm = confusion_matrix(Y_test, preds, )\n",
        "disp = ConfusionMatrixDisplay(confusion_matrix=cm,\n",
        "                            )\n",
        "disp.plot()\n",
        "plt.show()"
      ],
      "metadata": {
        "colab": {
          "base_uri": "https://localhost:8080/",
          "height": 449
        },
        "id": "8fu3Du_w303m",
        "outputId": "eea75a2c-ae1f-4f8a-8222-ccd6f478e7b6"
      },
      "execution_count": null,
      "outputs": [
        {
          "output_type": "display_data",
          "data": {
            "text/plain": [
              "<Figure size 640x480 with 2 Axes>"
            ],
            "image/png": "[encoded data removed]"
          },
          "metadata": {}
        }
      ]
    },
    {
      "cell_type": "code",
      "source": [],
      "metadata": {
        "id": "ekdhHINV4GJs"
      },
      "execution_count": null,
      "outputs": []
    }
  ]
}