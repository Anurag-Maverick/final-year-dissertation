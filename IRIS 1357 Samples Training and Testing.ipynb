{
 "cells": [
  {
   "cell_type": "code",
   "execution_count": 1,
   "id": "27ec6a47",
   "metadata": {},
   "outputs": [],
   "source": [
    "import os\n",
    "import obspy.clients.fdsn\n",
    "import numpy as np\n",
    "import pandas as pd\n",
    "import obspy\n",
    "import matplotlib.pyplot as plt\n",
    "from matplotlib.colors import Normalize\n",
    "from datetime import datetime\n",
    "import scipy\n",
    "import warnings\n",
    "warnings.filterwarnings(\"ignore\")\n",
    "\n",
    "\n",
    "import pylab as plt\n",
    "import warnings\n",
    "import os\n",
    "import h5py\n",
    "import matplotlib as mpl\n",
    "%matplotlib inline\n",
    "\n",
    "import sklearn\n",
    "from sklearn import linear_model\n",
    "\n",
    "import pandas as pd\n",
    "import seaborn as sns\n",
    "\n",
    "import keras\n",
    "import tensorflow as tf\n",
    "from keras.models import Sequential\n",
    "from keras.layers import Dense, Dropout, Activation, Flatten\n",
    "from keras.layers import Conv2D, MaxPooling2D, LSTM\n",
    "from keras import losses\n",
    "from keras.utils.np_utils import to_categorical\n",
    "from keras.layers import BatchNormalization\n",
    "import keras.backend as K\n",
    "\n",
    "from __future__ import print_function\n",
    "\n",
    "from collections import defaultdict\n",
    "import pickle\n",
    "from PIL import Image\n",
    "\n",
    "from six.moves import range\n",
    "\n",
    "from tensorflow.keras.layers import Input, Dense, Reshape, Flatten, Embedding, Dropout, LeakyReLU\n",
    "from keras.layers.convolutional import UpSampling2D, Conv2D\n",
    "from keras.models import Model\n",
    "from keras.optimizers import Adam\n",
    "from keras.utils.generic_utils import Progbar\n",
    "import numpy as np\n",
    "\n",
    "from numpy import zeros\n",
    "from numpy import ones\n",
    "from numpy import expand_dims\n",
    "from numpy.random import randn\n",
    "from numpy.random import randint\n",
    "from keras.optimizers import Adam\n",
    "from keras.models import Model\n",
    "from keras.layers import Input\n",
    "from keras.layers import Dense\n",
    "from keras.layers import Reshape\n",
    "from keras.layers import Flatten\n",
    "from keras.layers import Conv2D\n",
    "from keras.layers import Conv2DTranspose\n",
    "from keras.layers import LeakyReLU\n",
    "from keras.layers import BatchNormalization\n",
    "from keras.layers import Dropout\n",
    "from keras.layers import Embedding\n",
    "from keras.layers import Activation\n",
    "from keras.layers import Concatenate\n",
    "from keras.initializers import RandomNormal\n",
    "from matplotlib import pyplot\n",
    "\n",
    "np.random.seed(42)"
   ]
  },
  {
   "cell_type": "code",
   "execution_count": 2,
   "id": "5979766d",
   "metadata": {},
   "outputs": [],
   "source": [
    "W = np.load('IRIS_dataset_waveforms.npy')\n",
    "Y = np.load('IRIS_dataset_labels.npy')"
   ]
  },
  {
   "cell_type": "code",
   "execution_count": 3,
   "id": "5c49608a",
   "metadata": {},
   "outputs": [
    {
     "data": {
      "text/plain": [
       "((1357, 3, 1600), (1357, 1))"
      ]
     },
     "execution_count": 3,
     "metadata": {},
     "output_type": "execute_result"
    }
   ],
   "source": [
    "W.shape, Y.shape"
   ]
  },
  {
   "cell_type": "code",
   "execution_count": 4,
   "id": "6d61e1fb",
   "metadata": {},
   "outputs": [
    {
     "data": {
      "text/plain": [
       "(1357, 1600, 3, 1)"
      ]
     },
     "execution_count": 4,
     "metadata": {},
     "output_type": "execute_result"
    }
   ],
   "source": [
    "W = W.reshape(-1,1600,3,1)\n",
    "W.shape"
   ]
  },
  {
   "cell_type": "code",
   "execution_count": 8,
   "id": "c7870252",
   "metadata": {},
   "outputs": [],
   "source": [
    "def build_generator(latent_size):\n",
    "        # label input\n",
    "        in_label = Input(shape=(1,))\n",
    "        li = Embedding(100, latent_size,'glorot_normal')(in_label)\n",
    "        \n",
    "        n_nodes = 100*3\n",
    "        li = Dense(n_nodes)(li)\n",
    "        li = Reshape((100, 3, 1))(li)        \n",
    "        \n",
    "        in_lat = Input(shape=(latent_size,))        \n",
    "        n_nodes = 384 * 100 * 3\n",
    "        gen = Dense(n_nodes)(in_lat)\n",
    "        gen = Activation('relu')(gen)\n",
    "        gen = Reshape((100, 3, 384))(gen)\n",
    "        \n",
    "        # merge image gen and label input\n",
    "        merge = Concatenate()([gen, li])\n",
    "\n",
    "        gen = Conv2D(32,(5,5), activation='relu', padding='SAME')(merge)\n",
    "        gen = BatchNormalization()(gen)\n",
    "        gen = tf.keras.layers.UpSampling2D((2,1))(gen)\n",
    "        gen = Conv2D(64,(5,5), activation='relu', padding='SAME')(gen)\n",
    "        gen = BatchNormalization()(gen)\n",
    "        gen = Conv2D(128,(3,3), activation='relu', padding='SAME')(gen)\n",
    "        gen = BatchNormalization()(gen)\n",
    "        gen = Conv2D(256,(3,3), activation='relu', padding='SAME')(gen)\n",
    "        gen = BatchNormalization()(gen)\n",
    "        gen = Conv2D(128,(3,3), activation='relu', padding='SAME')(gen)\n",
    "        gen = BatchNormalization()(gen)\n",
    "        gen = tf.keras.layers.UpSampling2D((2,1))(gen)\n",
    "        gen = Conv2D(64,(3,3), activation='relu', padding='SAME')(gen)\n",
    "        gen = BatchNormalization()(gen)\n",
    "        gen = tf.keras.layers.UpSampling2D((2,1))(gen)\n",
    "        gen = Conv2D(64,(3,3), activation='relu', padding='SAME')(gen)\n",
    "        gen = BatchNormalization()(gen)\n",
    "        gen = tf.keras.layers.UpSampling2D((2,1))(gen)\n",
    "        gen = Conv2D(1,(3,3), activation='tanh', padding='SAME')(gen)\n",
    "        out_layer = BatchNormalization()(gen)        \n",
    "    \n",
    "        # define model\n",
    "        model = Model([in_lat, in_label], out_layer)\n",
    "        print(\"------------------Generator Model--------------------\")\n",
    "        print(model.summary())\n",
    "        return model\n",
    "\n",
    "\n",
    "def build_discriminator():\n",
    "        in_image = Input(shape=(1600,3,1))\n",
    "        fe = Conv2D(32, (5,5), padding='same', activation='relu')(in_image)\n",
    "        fe = BatchNormalization()(fe)\n",
    "        fe = Conv2D(64, (5,5), padding='same', activation='relu')(in_image)\n",
    "        fe = BatchNormalization()(fe)\n",
    "        #fe = LeakyReLU(alpha=0.2)(fe)\n",
    "        fe = Conv2D(128, (3,3), padding='same', activation='relu')(fe)\n",
    "        fe = BatchNormalization()(fe)\n",
    "        #fe = LeakyReLU(alpha=0.2)(fe)\n",
    "        fe = Conv2D(256, (3,3), padding='same', activation='relu')(fe)\n",
    "        fe = BatchNormalization()(fe)\n",
    "        #fe = LeakyReLU(alpha=0.2)(fe)\n",
    "        fe = Conv2D(128, (3,3), padding='same', activation='relu')(fe)\n",
    "        fe = BatchNormalization()(fe)\n",
    "        fe = Conv2D(64, (3,3), padding='same', activation='relu')(fe)\n",
    "        fe = BatchNormalization()(fe)\n",
    "        #fe = LeakyReLU(alpha=0.2)(fe)\n",
    "        #fe = Dropout(0.5)(fe)\n",
    "        fe = Flatten()(fe)\n",
    "        # real/fake output\n",
    "        out1 = Dense(1, activation='sigmoid')(fe)\n",
    "        # class label output\n",
    "        out2 = Dense(2, activation='softmax')(fe)\n",
    "        # define model\n",
    "        model = Model(in_image, [out1, out2])\n",
    "    \n",
    "        print(\"------------------Discriminator Model--------------------\")\n",
    "        print(model.summary())    \n",
    "        return model"
   ]
  },
  {
   "cell_type": "code",
   "execution_count": 9,
   "id": "6c9ff0c5",
   "metadata": {},
   "outputs": [
    {
     "name": "stdout",
     "output_type": "stream",
     "text": [
      "------------------Discriminator Model--------------------\n",
      "Model: \"model_6\"\n",
      "__________________________________________________________________________________________________\n",
      " Layer (type)                   Output Shape         Param #     Connected to                     \n",
      "==================================================================================================\n",
      " input_11 (InputLayer)          [(None, 1600, 3, 1)  0           []                               \n",
      "                                ]                                                                 \n",
      "                                                                                                  \n",
      " conv2d_29 (Conv2D)             (None, 1600, 3, 64)  1664        ['input_11[0][0]']               \n",
      "                                                                                                  \n",
      " batch_normalization_29 (BatchN  (None, 1600, 3, 64)  256        ['conv2d_29[0][0]']              \n",
      " ormalization)                                                                                    \n",
      "                                                                                                  \n",
      " conv2d_30 (Conv2D)             (None, 1600, 3, 128  73856       ['batch_normalization_29[0][0]'] \n",
      "                                )                                                                 \n",
      "                                                                                                  \n",
      " batch_normalization_30 (BatchN  (None, 1600, 3, 128  512        ['conv2d_30[0][0]']              \n",
      " ormalization)                  )                                                                 \n",
      "                                                                                                  \n",
      " conv2d_31 (Conv2D)             (None, 1600, 3, 256  295168      ['batch_normalization_30[0][0]'] \n",
      "                                )                                                                 \n",
      "                                                                                                  \n",
      " batch_normalization_31 (BatchN  (None, 1600, 3, 256  1024       ['conv2d_31[0][0]']              \n",
      " ormalization)                  )                                                                 \n",
      "                                                                                                  \n",
      " conv2d_32 (Conv2D)             (None, 1600, 3, 128  295040      ['batch_normalization_31[0][0]'] \n",
      "                                )                                                                 \n",
      "                                                                                                  \n",
      " batch_normalization_32 (BatchN  (None, 1600, 3, 128  512        ['conv2d_32[0][0]']              \n",
      " ormalization)                  )                                                                 \n",
      "                                                                                                  \n",
      " conv2d_33 (Conv2D)             (None, 1600, 3, 64)  73792       ['batch_normalization_32[0][0]'] \n",
      "                                                                                                  \n",
      " batch_normalization_33 (BatchN  (None, 1600, 3, 64)  256        ['conv2d_33[0][0]']              \n",
      " ormalization)                                                                                    \n",
      "                                                                                                  \n",
      " flatten_2 (Flatten)            (None, 307200)       0           ['batch_normalization_33[0][0]'] \n",
      "                                                                                                  \n",
      " dense_8 (Dense)                (None, 1)            307201      ['flatten_2[0][0]']              \n",
      "                                                                                                  \n",
      " dense_9 (Dense)                (None, 2)            614402      ['flatten_2[0][0]']              \n",
      "                                                                                                  \n",
      "==================================================================================================\n",
      "Total params: 1,663,683\n",
      "Trainable params: 1,662,403\n",
      "Non-trainable params: 1,280\n",
      "__________________________________________________________________________________________________\n",
      "None\n",
      "------------------Generator Model--------------------\n",
      "Model: \"model_7\"\n",
      "__________________________________________________________________________________________________\n",
      " Layer (type)                   Output Shape         Param #     Connected to                     \n",
      "==================================================================================================\n",
      " input_13 (InputLayer)          [(None, 100)]        0           []                               \n",
      "                                                                                                  \n",
      " input_12 (InputLayer)          [(None, 1)]          0           []                               \n",
      "                                                                                                  \n",
      " dense_11 (Dense)               (None, 115200)       11635200    ['input_13[0][0]']               \n",
      "                                                                                                  \n",
      " embedding_2 (Embedding)        (None, 1, 100)       10000       ['input_12[0][0]']               \n",
      "                                                                                                  \n",
      " activation_2 (Activation)      (None, 115200)       0           ['dense_11[0][0]']               \n",
      "                                                                                                  \n",
      " dense_10 (Dense)               (None, 1, 300)       30300       ['embedding_2[0][0]']            \n",
      "                                                                                                  \n",
      " reshape_5 (Reshape)            (None, 100, 3, 384)  0           ['activation_2[0][0]']           \n",
      "                                                                                                  \n",
      " reshape_4 (Reshape)            (None, 100, 3, 1)    0           ['dense_10[0][0]']               \n",
      "                                                                                                  \n",
      " concatenate_2 (Concatenate)    (None, 100, 3, 385)  0           ['reshape_5[0][0]',              \n",
      "                                                                  'reshape_4[0][0]']              \n",
      "                                                                                                  \n",
      " conv2d_34 (Conv2D)             (None, 100, 3, 32)   308032      ['concatenate_2[0][0]']          \n",
      "                                                                                                  \n",
      " batch_normalization_34 (BatchN  (None, 100, 3, 32)  128         ['conv2d_34[0][0]']              \n",
      " ormalization)                                                                                    \n",
      "                                                                                                  \n",
      " up_sampling2d_8 (UpSampling2D)  (None, 200, 3, 32)  0           ['batch_normalization_34[0][0]'] \n",
      "                                                                                                  \n",
      " conv2d_35 (Conv2D)             (None, 200, 3, 64)   51264       ['up_sampling2d_8[0][0]']        \n",
      "                                                                                                  \n",
      " batch_normalization_35 (BatchN  (None, 200, 3, 64)  256         ['conv2d_35[0][0]']              \n",
      " ormalization)                                                                                    \n",
      "                                                                                                  \n",
      " conv2d_36 (Conv2D)             (None, 200, 3, 128)  73856       ['batch_normalization_35[0][0]'] \n",
      "                                                                                                  \n",
      " batch_normalization_36 (BatchN  (None, 200, 3, 128)  512        ['conv2d_36[0][0]']              \n",
      " ormalization)                                                                                    \n",
      "                                                                                                  \n"
     ]
    },
    {
     "name": "stdout",
     "output_type": "stream",
     "text": [
      " conv2d_37 (Conv2D)             (None, 200, 3, 256)  295168      ['batch_normalization_36[0][0]'] \n",
      "                                                                                                  \n",
      " batch_normalization_37 (BatchN  (None, 200, 3, 256)  1024       ['conv2d_37[0][0]']              \n",
      " ormalization)                                                                                    \n",
      "                                                                                                  \n",
      " conv2d_38 (Conv2D)             (None, 200, 3, 128)  295040      ['batch_normalization_37[0][0]'] \n",
      "                                                                                                  \n",
      " batch_normalization_38 (BatchN  (None, 200, 3, 128)  512        ['conv2d_38[0][0]']              \n",
      " ormalization)                                                                                    \n",
      "                                                                                                  \n",
      " up_sampling2d_9 (UpSampling2D)  (None, 400, 3, 128)  0          ['batch_normalization_38[0][0]'] \n",
      "                                                                                                  \n",
      " conv2d_39 (Conv2D)             (None, 400, 3, 64)   73792       ['up_sampling2d_9[0][0]']        \n",
      "                                                                                                  \n",
      " batch_normalization_39 (BatchN  (None, 400, 3, 64)  256         ['conv2d_39[0][0]']              \n",
      " ormalization)                                                                                    \n",
      "                                                                                                  \n",
      " up_sampling2d_10 (UpSampling2D  (None, 800, 3, 64)  0           ['batch_normalization_39[0][0]'] \n",
      " )                                                                                                \n",
      "                                                                                                  \n",
      " conv2d_40 (Conv2D)             (None, 800, 3, 64)   36928       ['up_sampling2d_10[0][0]']       \n",
      "                                                                                                  \n",
      " batch_normalization_40 (BatchN  (None, 800, 3, 64)  256         ['conv2d_40[0][0]']              \n",
      " ormalization)                                                                                    \n",
      "                                                                                                  \n",
      " up_sampling2d_11 (UpSampling2D  (None, 1600, 3, 64)  0          ['batch_normalization_40[0][0]'] \n",
      " )                                                                                                \n",
      "                                                                                                  \n",
      " conv2d_41 (Conv2D)             (None, 1600, 3, 1)   577         ['up_sampling2d_11[0][0]']       \n",
      "                                                                                                  \n",
      " batch_normalization_41 (BatchN  (None, 1600, 3, 1)  4           ['conv2d_41[0][0]']              \n",
      " ormalization)                                                                                    \n",
      "                                                                                                  \n",
      "==================================================================================================\n",
      "Total params: 12,813,105\n",
      "Trainable params: 12,811,631\n",
      "Non-trainable params: 1,474\n",
      "__________________________________________________________________________________________________\n",
      "None\n",
      "Epoch 1 of 20\n",
      "32/33 [============================>.] - ETA: 12s\n",
      "Testing for epoch 1:\n",
      "component              | loss | dense_8_loss    | dense_9_loss\n",
      "-----------------------------------------------------------------\n",
      "generator (train)      | 3.83 | 3.05            | 0.78 \n",
      "generator (test)       | 6.49 | 5.72            | 0.77 \n",
      "discriminator (train)  | 3.18 | 0.03            | 3.15 \n",
      "discriminator (test)   | 3.49 | 2.85            | 0.64 \n",
      "Epoch 2 of 20\n",
      "32/33 [============================>.] - ETA: 12s\n",
      "Testing for epoch 2:\n",
      "component              | loss | dense_8_loss    | dense_9_loss\n",
      "-----------------------------------------------------------------\n",
      "generator (train)      | 8.26 | 7.38            | 0.89 \n",
      "generator (test)       | 10.85 | 9.34            | 1.51 \n",
      "discriminator (train)  | 1.48 | 0.00            | 1.48 \n",
      "discriminator (test)   | 5.80 | 4.65            | 1.15 \n",
      "Epoch 3 of 20\n",
      "32/33 [============================>.] - ETA: 12s\n",
      "Testing for epoch 3:\n",
      "component              | loss | dense_8_loss    | dense_9_loss\n",
      "-----------------------------------------------------------------\n",
      "generator (train)      | 9.94 | 9.11            | 0.83 \n",
      "generator (test)       | 12.59 | 11.49           | 1.10 \n",
      "discriminator (train)  | 0.93 | 0.00            | 0.93 \n",
      "discriminator (test)   | 6.61 | 5.76            | 0.85 \n",
      "Epoch 4 of 20\n",
      "32/33 [============================>.] - ETA: 13s\n",
      "Testing for epoch 4:\n",
      "component              | loss | dense_8_loss    | dense_9_loss\n",
      "-----------------------------------------------------------------\n",
      "generator (train)      | 10.56 | 10.05           | 0.51 \n",
      "generator (test)       | 16.07 | 12.45           | 3.62 \n",
      "discriminator (train)  | 0.47 | 0.00            | 0.47 \n",
      "discriminator (test)   | 9.01 | 6.20            | 2.80 \n",
      "Epoch 5 of 20\n",
      "32/33 [============================>.] - ETA: 12s\n",
      "Testing for epoch 5:\n",
      "component              | loss | dense_8_loss    | dense_9_loss\n",
      "-----------------------------------------------------------------\n",
      "generator (train)      | 7.20 | 7.19            | 0.01 \n",
      "generator (test)       | 17.28 | 13.12           | 4.16 \n",
      "discriminator (train)  | 0.14 | 0.00            | 0.14 \n",
      "discriminator (test)   | 9.55 | 6.54            | 3.01 \n",
      "Epoch 6 of 20\n",
      "32/33 [============================>.] - ETA: 13s\n",
      "Testing for epoch 6:\n",
      "component              | loss | dense_8_loss    | dense_9_loss\n",
      "-----------------------------------------------------------------\n",
      "generator (train)      | 1.68 | 1.68            | 0.00 \n",
      "generator (test)       | 18.61 | 14.45           | 4.17 \n",
      "discriminator (train)  | 0.05 | 0.00            | 0.05 \n",
      "discriminator (test)   | 10.63 | 7.15            | 3.48 \n",
      "Epoch 7 of 20\n",
      "32/33 [============================>.] - ETA: 13s\n",
      "Testing for epoch 7:\n",
      "component              | loss | dense_8_loss    | dense_9_loss\n",
      "-----------------------------------------------------------------\n",
      "generator (train)      | 0.00 | 0.00            | 0.00 \n",
      "generator (test)       | 20.88 | 14.95           | 5.93 \n",
      "discriminator (train)  | 0.03 | 0.00            | 0.03 \n",
      "discriminator (test)   | 11.77 | 7.33            | 4.44 \n",
      "Epoch 8 of 20\n",
      "32/33 [============================>.] - ETA: 13s\n",
      "Testing for epoch 8:\n",
      "component              | loss | dense_8_loss    | dense_9_loss\n",
      "-----------------------------------------------------------------\n",
      "generator (train)      | 0.00 | 0.00            | 0.00 \n",
      "generator (test)       | 20.38 | 14.55           | 5.84 \n",
      "discriminator (train)  | 0.03 | 0.00            | 0.03 \n",
      "discriminator (test)   | 11.82 | 6.94            | 4.88 \n",
      "Epoch 9 of 20\n",
      "32/33 [============================>.] - ETA: 13s\n",
      "Testing for epoch 9:\n",
      "component              | loss | dense_8_loss    | dense_9_loss\n",
      "-----------------------------------------------------------------\n",
      "generator (train)      | 0.00 | 0.00            | 0.00 \n",
      "generator (test)       | 17.26 | 11.44           | 5.81 \n",
      "discriminator (train)  | 0.02 | 0.00            | 0.02 \n",
      "discriminator (test)   | 10.02 | 5.08            | 4.94 \n",
      "Epoch 10 of 20\n",
      "32/33 [============================>.] - ETA: 13s\n",
      "Testing for epoch 10:\n",
      "component              | loss | dense_8_loss    | dense_9_loss\n",
      "-----------------------------------------------------------------\n",
      "generator (train)      | 0.00 | 0.00            | 0.00 \n",
      "generator (test)       | 10.33 | 9.17            | 1.16 \n",
      "discriminator (train)  | 0.01 | 0.00            | 0.01 \n",
      "discriminator (test)   | 5.70 | 3.89            | 1.81 \n",
      "Epoch 11 of 20\n",
      "32/33 [============================>.] - ETA: 13s\n",
      "Testing for epoch 11:\n",
      "component              | loss | dense_8_loss    | dense_9_loss\n",
      "-----------------------------------------------------------------\n",
      "generator (train)      | 0.00 | 0.00            | 0.00 \n",
      "generator (test)       | 5.26 | 5.26            | 0.00 \n",
      "discriminator (train)  | 0.00 | 0.00            | 0.00 \n",
      "discriminator (test)   | 2.60 | 1.94            | 0.66 \n",
      "Epoch 12 of 20\n"
     ]
    },
    {
     "name": "stdout",
     "output_type": "stream",
     "text": [
      "32/33 [============================>.] - ETA: 13s\n",
      "Testing for epoch 12:\n",
      "component              | loss | dense_8_loss    | dense_9_loss\n",
      "-----------------------------------------------------------------\n",
      "generator (train)      | 0.00 | 0.00            | 0.00 \n",
      "generator (test)       | 4.80 | 4.80            | 0.00 \n",
      "discriminator (train)  | 0.01 | 0.00            | 0.01 \n",
      "discriminator (test)   | 2.06 | 1.63            | 0.43 \n",
      "Epoch 13 of 20\n",
      "32/33 [============================>.] - ETA: 13s\n",
      "Testing for epoch 13:\n",
      "component              | loss | dense_8_loss    | dense_9_loss\n",
      "-----------------------------------------------------------------\n",
      "generator (train)      | 0.00 | 0.00            | 0.00 \n",
      "generator (test)       | 4.40 | 4.40            | 0.00 \n",
      "discriminator (train)  | 0.00 | 0.00            | 0.00 \n",
      "discriminator (test)   | 1.30 | 1.01            | 0.29 \n",
      "Epoch 14 of 20\n",
      "32/33 [============================>.] - ETA: 13s\n",
      "Testing for epoch 14:\n",
      "component              | loss | dense_8_loss    | dense_9_loss\n",
      "-----------------------------------------------------------------\n",
      "generator (train)      | 0.00 | 0.00            | 0.00 \n",
      "generator (test)       | 4.01 | 4.01            | 0.00 \n",
      "discriminator (train)  | 0.00 | 0.00            | 0.00 \n",
      "discriminator (test)   | 0.45 | 0.32            | 0.13 \n",
      "Epoch 15 of 20\n",
      "32/33 [============================>.] - ETA: 13s\n",
      "Testing for epoch 15:\n",
      "component              | loss | dense_8_loss    | dense_9_loss\n",
      "-----------------------------------------------------------------\n",
      "generator (train)      | 0.00 | 0.00            | 0.00 \n",
      "generator (test)       | 4.52 | 4.52            | 0.00 \n",
      "discriminator (train)  | 0.00 | 0.00            | 0.00 \n",
      "discriminator (test)   | 0.17 | 0.08            | 0.09 \n",
      "Epoch 16 of 20\n",
      "32/33 [============================>.] - ETA: 13s\n",
      "Testing for epoch 16:\n",
      "component              | loss | dense_8_loss    | dense_9_loss\n",
      "-----------------------------------------------------------------\n",
      "generator (train)      | 0.00 | 0.00            | 0.00 \n",
      "generator (test)       | 4.99 | 4.99            | 0.00 \n",
      "discriminator (train)  | 0.00 | 0.00            | 0.00 \n",
      "discriminator (test)   | 0.09 | 0.02            | 0.08 \n",
      "Epoch 17 of 20\n",
      "32/33 [============================>.] - ETA: 13s\n",
      "Testing for epoch 17:\n",
      "component              | loss | dense_8_loss    | dense_9_loss\n",
      "-----------------------------------------------------------------\n",
      "generator (train)      | 0.00 | 0.00            | 0.00 \n",
      "generator (test)       | 5.30 | 5.30            | 0.00 \n",
      "discriminator (train)  | 0.00 | 0.00            | 0.00 \n",
      "discriminator (test)   | 0.12 | 0.00            | 0.12 \n",
      "Epoch 18 of 20\n",
      "32/33 [============================>.] - ETA: 13s\n",
      "Testing for epoch 18:\n",
      "component              | loss | dense_8_loss    | dense_9_loss\n",
      "-----------------------------------------------------------------\n",
      "generator (train)      | 0.00 | 0.00            | 0.00 \n",
      "generator (test)       | 5.13 | 5.13            | 0.00 \n",
      "discriminator (train)  | 0.00 | 0.00            | 0.00 \n",
      "discriminator (test)   | 0.15 | 0.00            | 0.15 \n",
      "Epoch 19 of 20\n",
      "32/33 [============================>.] - ETA: 13s\n",
      "Testing for epoch 19:\n",
      "component              | loss | dense_8_loss    | dense_9_loss\n",
      "-----------------------------------------------------------------\n",
      "generator (train)      | 0.00 | 0.00            | 0.00 \n",
      "generator (test)       | 4.53 | 4.53            | 0.00 \n",
      "discriminator (train)  | 0.00 | 0.00            | 0.00 \n",
      "discriminator (test)   | 0.14 | 0.01            | 0.13 \n",
      "Epoch 20 of 20\n",
      "32/33 [============================>.] - ETA: 14s\n",
      "Testing for epoch 20:\n",
      "component              | loss | dense_8_loss    | dense_9_loss\n",
      "-----------------------------------------------------------------\n",
      "generator (train)      | 0.00 | 0.00            | 0.00 \n",
      "generator (test)       | 3.46 | 3.46            | 0.00 \n",
      "discriminator (train)  | 0.00 | 0.00            | 0.00 \n",
      "discriminator (test)   | 0.14 | 0.02            | 0.12 \n"
     ]
    }
   ],
   "source": [
    "if __name__ == '__main__':\n",
    "\n",
    "    nb_epochs = 20\n",
    "    batch_size = 32\n",
    "    latent_size = 100\n",
    "    n_classes = 2\n",
    "\n",
    "    adam_lr = 0.0002\n",
    "    adam_beta_1 = 0.5\n",
    "\n",
    "    # build the discriminator\n",
    "    discriminator = build_discriminator()\n",
    "    discriminator.compile(\n",
    "        optimizer=Adam(learning_rate=adam_lr, beta_1=adam_beta_1),\n",
    "        loss=['binary_crossentropy', 'sparse_categorical_crossentropy']\n",
    "    )\n",
    "\n",
    "    # build the generator\n",
    "    generator = build_generator(latent_size)\n",
    "    generator.compile(optimizer=Adam(learning_rate=adam_lr, beta_1=adam_beta_1),\n",
    "                      loss='binary_crossentropy')\n",
    "\n",
    "    latent = Input(shape=(latent_size, ))\n",
    "    image_class = Input(shape=(1,), dtype='int32')\n",
    "\n",
    "    # get a fake image\n",
    "    fake = generator([latent, image_class])\n",
    "\n",
    "    # we only want to be able to train generation for the combined model\n",
    "    discriminator.trainable = False\n",
    "    fake, aux = discriminator(fake)\n",
    "    combined = Model([latent, image_class], [fake, aux])\n",
    "\n",
    "    combined.compile(\n",
    "        optimizer=Adam(lr=adam_lr, beta_1=adam_beta_1),\n",
    "        loss=['binary_crossentropy', 'sparse_categorical_crossentropy']\n",
    "    )\n",
    "\n",
    "    X_train, y_train,X_test, y_test = W[:1085],Y[:1085],W[1085:],Y[1085:]\n",
    "\n",
    "    nb_train, nb_test = X_train.shape[0], X_test.shape[0]\n",
    "\n",
    "    train_history = defaultdict(list)\n",
    "    test_history = defaultdict(list)\n",
    "\n",
    "    for epoch in range(nb_epochs):\n",
    "        print('Epoch {} of {}'.format(epoch + 1, nb_epochs))\n",
    "\n",
    "        nb_batches = int(X_train.shape[0] / batch_size)\n",
    "        progress_bar = Progbar(target=nb_batches)\n",
    "\n",
    "        epoch_gen_loss = []\n",
    "        epoch_disc_loss = []\n",
    "\n",
    "        for index in range(nb_batches):\n",
    "            progress_bar.update(index)\n",
    "            # generate a new batch of noise\n",
    "            noise = np.random.uniform(-1, 1, (batch_size, latent_size))\n",
    "\n",
    "            # get a batch of real images\n",
    "            image_batch = X_train[index * batch_size:(index + 1) * batch_size]\n",
    "            label_batch = y_train[index * batch_size:(index + 1) * batch_size]\n",
    "\n",
    "            # sample some labels from p_c\n",
    "            sampled_labels = np.random.randint(0, 2, batch_size)\n",
    "\n",
    "            # generate a batch of fake images, using the generated labels as a\n",
    "            # conditioner. We reshape the sampled labels to be\n",
    "            # (batch_size, 1) so that we can feed them into the embedding\n",
    "            # layer as a length one sequence\n",
    "            generated_images = generator.predict(\n",
    "                [noise, sampled_labels.reshape((-1, 1))], verbose=0)\n",
    "\n",
    "            X = np.concatenate((image_batch, generated_images))\n",
    "            y = np.array([1] * batch_size + [0] * batch_size)\n",
    "            aux_y = np.concatenate((label_batch, sampled_labels.reshape((-1, 1))), axis=0)\n",
    "\n",
    "            # see if the discriminator can figure itself out...\n",
    "            epoch_disc_loss.append(discriminator.train_on_batch(X, [y, aux_y]))\n",
    "\n",
    "            # make new noise. we generate 2 * batch size here such that we have\n",
    "            # the generator optimize over an identical number of images as the\n",
    "            # discriminator\n",
    "            noise = np.random.uniform(-1, 1, (2 * batch_size, latent_size))\n",
    "            sampled_labels = np.random.randint(0, 2, 2 * batch_size)\n",
    "\n",
    "            # we want to train the genrator to trick the discriminator\n",
    "            # For the generator, we want all the {fake, not-fake} labels to say\n",
    "            # not-fake\n",
    "            trick = np.ones(2 * batch_size)\n",
    "\n",
    "            epoch_gen_loss.append(combined.train_on_batch(\n",
    "                [noise, sampled_labels.reshape((-1, 1))], [trick, sampled_labels]))\n",
    "\n",
    "        print('\\nTesting for epoch {}:'.format(epoch + 1))\n",
    "\n",
    "        # evaluate the testing loss here\n",
    "\n",
    "        # generate a new batch of noise\n",
    "        noise = np.random.uniform(-1, 1, (nb_test, latent_size))\n",
    "\n",
    "        # sample some labels from p_c and generate images from them\n",
    "        sampled_labels = np.random.randint(0, 2, nb_test)\n",
    "        generated_images = generator.predict(\n",
    "            [noise, sampled_labels.reshape((-1, 1))], verbose=False)\n",
    "\n",
    "        X = np.concatenate((X_test, generated_images))\n",
    "        y = np.array([1] * nb_test + [0] * nb_test)\n",
    "        aux_y = np.concatenate((y_test, sampled_labels.reshape((-1, 1))), axis=0)\n",
    "\n",
    "        # see if the discriminator can figure itself out...\n",
    "        discriminator_test_loss = discriminator.evaluate(\n",
    "            X, [y, aux_y], verbose=False)\n",
    "\n",
    "        discriminator_train_loss = np.mean(np.array(epoch_disc_loss), axis=0)\n",
    "\n",
    "        # make new noise\n",
    "        noise = np.random.uniform(-1, 1, (2 * nb_test, latent_size))\n",
    "        sampled_labels = np.random.randint(0, 2, 2 * nb_test)\n",
    "\n",
    "        trick = np.ones(2 * nb_test)\n",
    "\n",
    "        generator_test_loss = combined.evaluate(\n",
    "            [noise, sampled_labels.reshape((-1, 1))],\n",
    "            [trick, sampled_labels], verbose=False)\n",
    "\n",
    "        generator_train_loss = np.mean(np.array(epoch_gen_loss), axis=0)\n",
    "\n",
    "        # generate an epoch report on performance\n",
    "        train_history['generator'].append(generator_train_loss)\n",
    "        train_history['discriminator'].append(discriminator_train_loss)\n",
    "\n",
    "        test_history['generator'].append(generator_test_loss)\n",
    "        test_history['discriminator'].append(discriminator_test_loss)\n",
    "\n",
    "        print('{0:<22s} | {1:4s} | {2:15s} | {3:5s}'.format(\n",
    "            'component', *discriminator.metrics_names))\n",
    "        print('-' * 65)\n",
    "\n",
    "        ROW_FMT = '{0:<22s} | {1:<4.2f} | {2:<15.2f} | {3:<5.2f}'\n",
    "        print(ROW_FMT.format('generator (train)',\n",
    "                             *train_history['generator'][-1]))\n",
    "        print(ROW_FMT.format('generator (test)',\n",
    "                             *test_history['generator'][-1]))\n",
    "        print(ROW_FMT.format('discriminator (train)',\n",
    "                             *train_history['discriminator'][-1]))\n",
    "        print(ROW_FMT.format('discriminator (test)',\n",
    "                             *test_history['discriminator'][-1]))\n",
    "\n",
    "        # save weights every epoch\n",
    "        generator.save_weights(\n",
    "            'params_generator_epoch_{0:03d}.hdf5'.format(epoch), True)\n",
    "        discriminator.save_weights(\n",
    "            'params_discriminator_epoch_{0:03d}.hdf5'.format(epoch), True)\n",
    "\n",
    "        # generate some waveforms to display\n",
    "        # generate a new batch of noise\n",
    "#         noise = np.random.uniform(-1, 1, (nb_test, latent_size))\n",
    "#         sampled_labels = np.random.randint(0, 2, nb_test)\n",
    "#         generated_images = generator.predict(\n",
    "#             [noise, sampled_labels.reshape((-1, 1))], verbose=True)\n",
    "#         generated_images = generated_images.reshape(nb_test,1600,3)\n",
    "        \n",
    "    #saving model weights and history training and testing performance of each epoch\n",
    "\n",
    "    pickle.dump({'train': train_history, 'test': test_history},\n",
    "                open('acgan-history.pkl', 'wb'))"
   ]
  },
  {
   "cell_type": "code",
   "execution_count": 10,
   "id": "8608598c",
   "metadata": {},
   "outputs": [
    {
     "name": "stdout",
     "output_type": "stream",
     "text": [
      "9/9 [==============================] - 2s 212ms/step\n"
     ]
    }
   ],
   "source": [
    "best_epoch = 20\n",
    "noise = np.random.uniform(-1, 1, (nb_test, latent_size))\n",
    "sampled_labels = np.ones(nb_test)\n",
    "generator.load_weights('params_generator_epoch_{0:03d}.hdf5'.format(best_epoch-1))\n",
    "generated_images = generator.predict([noise, sampled_labels.reshape((-1, 1))],\n",
    "                                     verbose=True)\n",
    "generated_images = generated_images.reshape(nb_test,1600,3)"
   ]
  },
  {
   "cell_type": "code",
   "execution_count": 11,
   "id": "7178e391",
   "metadata": {},
   "outputs": [
    {
     "data": {
      "text/plain": [
       "((272, 1600, 3), (1357, 1600, 3, 1))"
      ]
     },
     "execution_count": 11,
     "metadata": {},
     "output_type": "execute_result"
    }
   ],
   "source": [
    "generated_images.shape, W.shape"
   ]
  },
  {
   "cell_type": "code",
   "execution_count": 30,
   "id": "ac6a5219",
   "metadata": {},
   "outputs": [
    {
     "data": {
      "text/plain": [
       "[<matplotlib.lines.Line2D at 0x173083758a0>]"
      ]
     },
     "execution_count": 30,
     "metadata": {},
     "output_type": "execute_result"
    },
    {
     "data": {
      "image/png": "[encoded data removed]",
      "text/plain": [
       "<Figure size 640x480 with 1 Axes>"
      ]
     },
     "metadata": {},
     "output_type": "display_data"
    }
   ],
   "source": [
    "plt.plot(generated_images[15,:,0])"
   ]
  },
  {
   "cell_type": "code",
   "execution_count": 13,
   "id": "220f4232",
   "metadata": {},
   "outputs": [],
   "source": [
    "gen_train=[]\n",
    "dis_train=[]\n",
    "gen_test=[]\n",
    "dis_test=[]\n",
    "\n",
    "for i in range(len(train_history['generator'])):\n",
    "    gen_train.append(train_history['generator'][i][0])\n",
    "    dis_train.append(train_history['discriminator'][i][0])\n",
    "    \n",
    "for i in range(len(test_history['generator'])):\n",
    "    gen_test.append(test_history['generator'][i][0])\n",
    "    dis_test.append(test_history['discriminator'][i][0])"
   ]
  },
  {
   "cell_type": "code",
   "execution_count": 67,
   "id": "cb52ddb6",
   "metadata": {},
   "outputs": [
    {
     "data": {
      "text/plain": [
       "Text(0, 0.5, '$L_c$')"
      ]
     },
     "execution_count": 67,
     "metadata": {},
     "output_type": "execute_result"
    },
    {
     "data": {
      "image/png": "[encoded data removed]",
      "text/plain": [
       "<Figure size 640x480 with 1 Axes>"
      ]
     },
     "metadata": {},
     "output_type": "display_data"
    }
   ],
   "source": [
    "plt.plot(gen_test,label='Generator (Test)')\n",
    "plt.plot(gen_train,label='Generator (Train)')\n",
    "plt.plot(dis_train,label='Discriminator (Train)')\n",
    "plt.plot(dis_test,label='Discriminator (Test)')\n",
    "plt.grid()\n",
    "plt.legend()\n",
    "plt.title('Loss per Epoch')\n",
    "plt.xlabel('Epoch')\n",
    "plt.ylabel(r'$L_c$')"
   ]
  },
  {
   "cell_type": "code",
   "execution_count": 22,
   "id": "e99f468d",
   "metadata": {},
   "outputs": [
    {
     "data": {
      "text/plain": [
       "((272, 1600, 3), (1357, 1600, 3, 1))"
      ]
     },
     "execution_count": 22,
     "metadata": {},
     "output_type": "execute_result"
    }
   ],
   "source": [
    "generated_images.shape, W.shape"
   ]
  },
  {
   "cell_type": "code",
   "execution_count": 34,
   "id": "a3233616",
   "metadata": {},
   "outputs": [],
   "source": [
    "generated_images = generated_images.reshape(-1,1600,3,1)"
   ]
  },
  {
   "cell_type": "code",
   "execution_count": 35,
   "id": "930fb21a",
   "metadata": {},
   "outputs": [
    {
     "data": {
      "text/plain": [
       "(1629, 1600, 3, 1)"
      ]
     },
     "execution_count": 35,
     "metadata": {},
     "output_type": "execute_result"
    }
   ],
   "source": [
    "X = np.concatenate([W,generated_images], axis=0)\n",
    "X.shape"
   ]
  },
  {
   "cell_type": "code",
   "execution_count": 36,
   "id": "5cf99b4c",
   "metadata": {},
   "outputs": [
    {
     "data": {
      "text/plain": [
       "((1357, 1), (272,))"
      ]
     },
     "execution_count": 36,
     "metadata": {},
     "output_type": "execute_result"
    }
   ],
   "source": [
    "Y.shape,sampled_labels.shape"
   ]
  },
  {
   "cell_type": "code",
   "execution_count": 37,
   "id": "21090a45",
   "metadata": {},
   "outputs": [
    {
     "data": {
      "text/plain": [
       "(1629, 1)"
      ]
     },
     "execution_count": 37,
     "metadata": {},
     "output_type": "execute_result"
    }
   ],
   "source": [
    "sampled_labels = sampled_labels.reshape(-1,1)\n",
    "y = np.concatenate([Y,sampled_labels], axis=0)\n",
    "y.shape"
   ]
  },
  {
   "cell_type": "code",
   "execution_count": 38,
   "id": "becce11e",
   "metadata": {},
   "outputs": [],
   "source": [
    "seed = 42\n",
    "np.random.seed(seed)\n",
    "np.random.shuffle(X)\n",
    "np.random.seed(seed)\n",
    "np.random.shuffle(y)"
   ]
  },
  {
   "cell_type": "code",
   "execution_count": 60,
   "id": "401f3c2c",
   "metadata": {},
   "outputs": [
    {
     "data": {
      "text/plain": [
       "((198, 3, 1600), (198, 1))"
      ]
     },
     "execution_count": 60,
     "metadata": {},
     "output_type": "execute_result"
    }
   ],
   "source": [
    "W_test = np.load('IRIS_dataset_waveforms_test.npy')\n",
    "Y_test = np.load('IRIS_dataset_labels_test.npy')\n",
    "W_test.shape, Y_test.shape"
   ]
  },
  {
   "cell_type": "code",
   "execution_count": 61,
   "id": "9c88d0c1",
   "metadata": {},
   "outputs": [],
   "source": [
    "W_test = W_test.reshape(-1,1600,3,1)"
   ]
  },
  {
   "cell_type": "code",
   "execution_count": 62,
   "id": "5f8b0225",
   "metadata": {},
   "outputs": [],
   "source": [
    "def identity_block(x, filter):\n",
    "    # copy tensor to variable called x_skip\n",
    "    x_skip = x\n",
    "    # Layer 1\n",
    "    x = tf.keras.layers.Conv2D(filter, (3,3), padding = 'same')(x)\n",
    "    x = tf.keras.layers.BatchNormalization(axis=3)(x)\n",
    "    x = tf.keras.layers.Activation('relu')(x)\n",
    "    # Layer 2\n",
    "    x = tf.keras.layers.Conv2D(filter, (3,3), padding = 'same')(x)\n",
    "    x = tf.keras.layers.BatchNormalization(axis=3)(x)\n",
    "    # Add Residue\n",
    "    x = tf.keras.layers.Add()([x, x_skip])     \n",
    "    x = tf.keras.layers.Activation('relu')(x)\n",
    "    return x\n",
    "\n",
    "def convolutional_block(x, filter):\n",
    "    # copy tensor to variable called x_skip\n",
    "    x_skip = x\n",
    "    # Layer 1\n",
    "    x = tf.keras.layers.Conv2D(filter, (3,3), padding = 'same', strides = (2,2))(x)\n",
    "    x = tf.keras.layers.BatchNormalization(axis=3)(x)\n",
    "    x = tf.keras.layers.Activation('relu')(x)\n",
    "    # Layer 2\n",
    "    x = tf.keras.layers.Conv2D(filter, (3,3), padding = 'same')(x)\n",
    "    x = tf.keras.layers.BatchNormalization(axis=3)(x)\n",
    "    x = tf.keras.layers.Activation('relu')(x)\n",
    "    # Processing Residue with conv(1,1)\n",
    "    x_skip = tf.keras.layers.Conv2D(filter, (1,1), strides = (2,2))(x_skip)\n",
    "    # Add Residue\n",
    "    x = tf.keras.layers.Add()([x, x_skip])     \n",
    "    x = tf.keras.layers.Activation('relu')(x)\n",
    "    return x\n",
    "\n",
    "def ResNet34(shape = (1600, 3, 1), classes = 2):\n",
    "    # Step 1 (Setup Input Layer)\n",
    "    x_input = tf.keras.layers.Input(shape)\n",
    "    x = tf.keras.layers.ZeroPadding2D((3, 3))(x_input)\n",
    "    # Step 2 (Initial Conv layer along with maxPool)\n",
    "    x = tf.keras.layers.Conv2D(64, kernel_size=5, padding='same')(x)\n",
    "    x = tf.keras.layers.BatchNormalization()(x)\n",
    "    x = tf.keras.layers.Activation('relu')(x)\n",
    "    x = tf.keras.layers.MaxPool2D(pool_size=2, padding='same')(x)\n",
    "    # Define size of sub-blocks and initial filter size\n",
    "    block_layers = [3,3,4]\n",
    "    filter_size = 64\n",
    "    # Step 3 Add the Resnet Blocks\n",
    "    for i in range(2):\n",
    "        if i == 0:\n",
    "            # For sub-block 1 Residual/Convolutional block not needed\n",
    "            for j in range(block_layers[i]):\n",
    "                x = identity_block(x, filter_size)\n",
    "        else:\n",
    "            # One Residual/Convolutional Block followed by Identity blocks\n",
    "            # The filter size will go on increasing by a factor of 2\n",
    "            filter_size = filter_size*2\n",
    "            x = convolutional_block(x, filter_size)\n",
    "            for j in range(block_layers[i] - 1):\n",
    "                x = identity_block(x, filter_size)\n",
    "    # Step 4 End Dense Network\n",
    "    x = tf.keras.layers.AveragePooling2D((2,2), padding = 'same')(x)\n",
    "    x = tf.keras.layers.Flatten()(x)\n",
    "    x = tf.keras.layers.Dense(512, activation = 'relu')(x)\n",
    "    x = tf.keras.layers.Dense(1, activation = 'softmax')(x)\n",
    "    model = tf.keras.models.Model(inputs = x_input, outputs = x, name = \"ResNet34\")\n",
    "    return model"
   ]
  },
  {
   "cell_type": "code",
   "execution_count": 63,
   "id": "784c444b",
   "metadata": {},
   "outputs": [
    {
     "name": "stdout",
     "output_type": "stream",
     "text": [
      "51/51 [==============================] - 158s 3s/step - loss: 1.0705 - precision_11: 0.3861\n"
     ]
    },
    {
     "data": {
      "text/plain": [
       "<keras.callbacks.History at 0x17311f56410>"
      ]
     },
     "execution_count": 63,
     "metadata": {},
     "output_type": "execute_result"
    }
   ],
   "source": [
    "model1 = ResNet34()\n",
    "model1.compile(optimizer=Adam(learning_rate=adam_lr, beta_1=adam_beta_1),\n",
    "                      loss='binary_crossentropy',\n",
    "             metrics=[tf.keras.metrics.Precision()])\n",
    "model1.fit(X,y,epochs=1, batch_size=32, verbose=True)"
   ]
  },
  {
   "cell_type": "code",
   "execution_count": 65,
   "id": "6bc84a4c",
   "metadata": {},
   "outputs": [
    {
     "name": "stdout",
     "output_type": "stream",
     "text": [
      "43/43 [==============================] - 131s 3s/step - loss: 2.9780 - precision_12: 0.2631\n"
     ]
    },
    {
     "data": {
      "text/plain": [
       "<keras.callbacks.History at 0x173194e5510>"
      ]
     },
     "execution_count": 65,
     "metadata": {},
     "output_type": "execute_result"
    }
   ],
   "source": [
    "model2 = ResNet34()\n",
    "model2.compile(optimizer=Adam(learning_rate=adam_lr, beta_1=adam_beta_1),\n",
    "                      loss='binary_crossentropy',\n",
    "             metrics=[tf.keras.metrics.Precision()])\n",
    "model2.fit(W,Y,epochs=1, batch_size=32, verbose=True)"
   ]
  },
  {
   "cell_type": "code",
   "execution_count": null,
   "id": "c9b592a1",
   "metadata": {},
   "outputs": [],
   "source": []
  }
 ],
 "metadata": {
  "kernelspec": {
   "display_name": "Python 3 (ipykernel)",
   "language": "python",
   "name": "python3"
  },
  "language_info": {
   "codemirror_mode": {
    "name": "ipython",
    "version": 3
   },
   "file_extension": ".py",
   "mimetype": "text/x-python",
   "name": "python",
   "nbconvert_exporter": "python",
   "pygments_lexer": "ipython3",
   "version": "3.10.9"
  }
 },
 "nbformat": 4,
 "nbformat_minor": 5
}
